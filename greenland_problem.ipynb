{
  "nbformat": 4,
  "nbformat_minor": 0,
  "metadata": {
    "kernelspec": {
      "display_name": "Python 3",
      "language": "python",
      "name": "python3"
    },
    "language_info": {
      "codemirror_mode": {
        "name": "ipython",
        "version": 3
      },
      "file_extension": ".py",
      "mimetype": "text/x-python",
      "name": "python",
      "nbconvert_exporter": "python",
      "pygments_lexer": "ipython3",
      "version": "3.8.0"
    },
    "colab": {
      "name": "greenland_problem.ipynb",
      "provenance": [],
      "collapsed_sections": []
    }
  },
  "cells": [
    {
      "cell_type": "markdown",
      "metadata": {
        "id": "9K2zlDyaU2DW"
      },
      "source": [
        "# Mini Project - Machine Learning in Heathcare\r\n",
        "By - Tushar Agrawal (1900910130119) (IT-2 Semester 3)\r\n",
        "\r\n",
        "Mentor: Mr. Ajay Indoria"
      ]
    },
    {
      "cell_type": "markdown",
      "metadata": {
        "id": "S2QAGCYWKuYM"
      },
      "source": [
        "# **Objective**\r\n",
        "\r\n",
        "A hospital in the province of Greenland has been trying to improve its care conditions by looking at historic survival of the patients.\r\n",
        "\r\n",
        "Develop a model that will predict the chances of survival of a patient after 1 year of treatment (Survived_1_year).\r\n",
        "\r\n",
        "**Dataset & Data Description**\r\n",
        "\r\n",
        "The dataset contains the patient records collected from a hospital in Greenland. The “Survived_1_year” column is a target variable which has binary entries (0 or 1).\r\n",
        "\r\n",
        "\r\n",
        "\r\n",
        "*   Survived_1_year == 0, implies that the patient did not survive after 1 year of treatment\r\n",
        "*   Survived_1_year == 1, implies that the patient survived after 1 year of treatment\r\n",
        "\r\n",
        "**Data Description:**\r\n",
        "\r\n",
        "\r\n",
        "* ID_Patient_Care_Situation: Care situation of a patient during treatment\r\n",
        "\r\n",
        "* Diagnosed_Condition: The diagnosed condition of the patient\r\n",
        "\r\n",
        "* ID_Patient: Patient identifier number\r\n",
        "\r\n",
        "* Treatment_with_drugs: Class of drugs used during treatment\r\n",
        "\r\n",
        "* Survived_1_year: If the patient survived after one year (0 means did not survive; 1 means survived)\r\n",
        "\r\n",
        "* Patient_Age: Age of the patient\r\n",
        "\r\n",
        "* Patient_Body_Mass_Index: A calculated value based on the patient’s weight, height, etc.\r\n",
        "\r\n",
        "* Patient_Smoker: If the patient was a smoker or not\r\n",
        "\r\n",
        "* Patient_Rural_Urban: If the patient stayed in Rural or Urban part of the country\r\n",
        "\r\n",
        "* Previous_Condition: Condition of the patient before the start of the treatment ( This variable is splitted into 8 columns - A, B, C, D, E, F, Z and \r\n",
        "* Number_of_prev_cond. A, B, C, D, E, F and Z are the previous conditions of the patient. Suppose for one patient, if the entry in column A is 1, it means that the previous condition of the patient was A. If the patient didn’t have that condition, it is 0 and same for other conditions. If a patient has previous condition as A and C , columns A and C will have entries as 1 and 1 respectively while the other column B, D, E, F, Z will have entries 0, 0, 0, 0, 0 respectively. The column Number_of_prev_cond will have entry as 2 i.e. 1 + 0 + 1 + 0 + 0 + 0 + 0 + 0 = 2 in this case. )\r\n",
        "\r\n",
        "\r\n",
        "\r\n",
        "**Solution Steps**\r\n",
        "1. Load data\r\n",
        "2. Understand your data: EDA\r\n",
        "3. Pre-process the data\r\n",
        "4. Prepare train and test datasets\r\n",
        "5. Choose a model\r\n",
        "6. Train your model\r\n",
        "7. Evaluate the model (F1-score calculation)\r\n",
        "8. Optimize: repeat steps 5 - 7\r\n",
        "\r\n"
      ]
    },
    {
      "cell_type": "markdown",
      "metadata": {
        "id": "YRakkAMEM6jD"
      },
      "source": [
        "**Load Libraries**\r\n"
      ]
    },
    {
      "cell_type": "code",
      "metadata": {
        "id": "P7JlctcAMp2q"
      },
      "source": [
        "import numpy as np # package for numerical computations\n",
        "import pandas as pd # package for data analysis\n",
        "\n",
        "# libraries for visualization\n",
        "import matplotlib.pyplot as plt\n",
        "import seaborn as sns"
      ],
      "execution_count": null,
      "outputs": []
    },
    {
      "cell_type": "markdown",
      "metadata": {
        "id": "xe2_B4drNBi1"
      },
      "source": [
        "**Load Data**"
      ]
    },
    {
      "cell_type": "code",
      "metadata": {
        "id": "IqOSAt7BR-Hw"
      },
      "source": [
        "#Load Data\r\n",
        "pharma_data = pd.read_csv('https://raw.githubusercontent.com/dphi-official/Datasets/master/pharma_data/Training_set_begs.csv')"
      ],
      "execution_count": null,
      "outputs": []
    },
    {
      "cell_type": "markdown",
      "metadata": {
        "id": "JBoJodRcNJZY"
      },
      "source": [
        "**Exploratory Data Analysis**"
      ]
    },
    {
      "cell_type": "code",
      "metadata": {
        "id": "pnqCkgCiMp23",
        "colab": {
          "base_uri": "https://localhost:8080/",
          "height": 439
        },
        "outputId": "c10593c5-52da-4aac-baa0-d9c6a465fe1c"
      },
      "source": [
        "# Take a look at few observations\r\n",
        "pharma_data"
      ],
      "execution_count": null,
      "outputs": [
        {
          "output_type": "execute_result",
          "data": {
            "text/html": [
              "<div>\n",
              "<style scoped>\n",
              "    .dataframe tbody tr th:only-of-type {\n",
              "        vertical-align: middle;\n",
              "    }\n",
              "\n",
              "    .dataframe tbody tr th {\n",
              "        vertical-align: top;\n",
              "    }\n",
              "\n",
              "    .dataframe thead th {\n",
              "        text-align: right;\n",
              "    }\n",
              "</style>\n",
              "<table border=\"1\" class=\"dataframe\">\n",
              "  <thead>\n",
              "    <tr style=\"text-align: right;\">\n",
              "      <th></th>\n",
              "      <th>ID_Patient_Care_Situation</th>\n",
              "      <th>Diagnosed_Condition</th>\n",
              "      <th>Patient_ID</th>\n",
              "      <th>Treated_with_drugs</th>\n",
              "      <th>Patient_Age</th>\n",
              "      <th>Patient_Body_Mass_Index</th>\n",
              "      <th>Patient_Smoker</th>\n",
              "      <th>Patient_Rural_Urban</th>\n",
              "      <th>Patient_mental_condition</th>\n",
              "      <th>A</th>\n",
              "      <th>B</th>\n",
              "      <th>C</th>\n",
              "      <th>D</th>\n",
              "      <th>E</th>\n",
              "      <th>F</th>\n",
              "      <th>Z</th>\n",
              "      <th>Number_of_prev_cond</th>\n",
              "      <th>Survived_1_year</th>\n",
              "    </tr>\n",
              "  </thead>\n",
              "  <tbody>\n",
              "    <tr>\n",
              "      <th>0</th>\n",
              "      <td>22374</td>\n",
              "      <td>8</td>\n",
              "      <td>3333</td>\n",
              "      <td>DX6</td>\n",
              "      <td>56</td>\n",
              "      <td>18.479385</td>\n",
              "      <td>YES</td>\n",
              "      <td>URBAN</td>\n",
              "      <td>Stable</td>\n",
              "      <td>1.0</td>\n",
              "      <td>0.0</td>\n",
              "      <td>0.0</td>\n",
              "      <td>0.0</td>\n",
              "      <td>1.0</td>\n",
              "      <td>0.0</td>\n",
              "      <td>0.0</td>\n",
              "      <td>2.0</td>\n",
              "      <td>0</td>\n",
              "    </tr>\n",
              "    <tr>\n",
              "      <th>1</th>\n",
              "      <td>18164</td>\n",
              "      <td>5</td>\n",
              "      <td>5740</td>\n",
              "      <td>DX2</td>\n",
              "      <td>36</td>\n",
              "      <td>22.945566</td>\n",
              "      <td>YES</td>\n",
              "      <td>RURAL</td>\n",
              "      <td>Stable</td>\n",
              "      <td>1.0</td>\n",
              "      <td>0.0</td>\n",
              "      <td>0.0</td>\n",
              "      <td>0.0</td>\n",
              "      <td>0.0</td>\n",
              "      <td>0.0</td>\n",
              "      <td>0.0</td>\n",
              "      <td>1.0</td>\n",
              "      <td>1</td>\n",
              "    </tr>\n",
              "    <tr>\n",
              "      <th>2</th>\n",
              "      <td>6283</td>\n",
              "      <td>23</td>\n",
              "      <td>10446</td>\n",
              "      <td>DX6</td>\n",
              "      <td>48</td>\n",
              "      <td>27.510027</td>\n",
              "      <td>YES</td>\n",
              "      <td>RURAL</td>\n",
              "      <td>Stable</td>\n",
              "      <td>1.0</td>\n",
              "      <td>0.0</td>\n",
              "      <td>0.0</td>\n",
              "      <td>0.0</td>\n",
              "      <td>0.0</td>\n",
              "      <td>0.0</td>\n",
              "      <td>0.0</td>\n",
              "      <td>1.0</td>\n",
              "      <td>0</td>\n",
              "    </tr>\n",
              "    <tr>\n",
              "      <th>3</th>\n",
              "      <td>5339</td>\n",
              "      <td>51</td>\n",
              "      <td>12011</td>\n",
              "      <td>DX1</td>\n",
              "      <td>5</td>\n",
              "      <td>19.130976</td>\n",
              "      <td>NO</td>\n",
              "      <td>URBAN</td>\n",
              "      <td>Stable</td>\n",
              "      <td>1.0</td>\n",
              "      <td>0.0</td>\n",
              "      <td>0.0</td>\n",
              "      <td>0.0</td>\n",
              "      <td>0.0</td>\n",
              "      <td>0.0</td>\n",
              "      <td>0.0</td>\n",
              "      <td>1.0</td>\n",
              "      <td>1</td>\n",
              "    </tr>\n",
              "    <tr>\n",
              "      <th>4</th>\n",
              "      <td>33012</td>\n",
              "      <td>0</td>\n",
              "      <td>12513</td>\n",
              "      <td>NaN</td>\n",
              "      <td>128</td>\n",
              "      <td>1.348400</td>\n",
              "      <td>Cannot say</td>\n",
              "      <td>RURAL</td>\n",
              "      <td>Stable</td>\n",
              "      <td>0.0</td>\n",
              "      <td>0.0</td>\n",
              "      <td>0.0</td>\n",
              "      <td>0.0</td>\n",
              "      <td>0.0</td>\n",
              "      <td>0.0</td>\n",
              "      <td>1.0</td>\n",
              "      <td>1.0</td>\n",
              "      <td>1</td>\n",
              "    </tr>\n",
              "    <tr>\n",
              "      <th>...</th>\n",
              "      <td>...</td>\n",
              "      <td>...</td>\n",
              "      <td>...</td>\n",
              "      <td>...</td>\n",
              "      <td>...</td>\n",
              "      <td>...</td>\n",
              "      <td>...</td>\n",
              "      <td>...</td>\n",
              "      <td>...</td>\n",
              "      <td>...</td>\n",
              "      <td>...</td>\n",
              "      <td>...</td>\n",
              "      <td>...</td>\n",
              "      <td>...</td>\n",
              "      <td>...</td>\n",
              "      <td>...</td>\n",
              "      <td>...</td>\n",
              "      <td>...</td>\n",
              "    </tr>\n",
              "    <tr>\n",
              "      <th>23092</th>\n",
              "      <td>15613</td>\n",
              "      <td>3</td>\n",
              "      <td>1548</td>\n",
              "      <td>DX2 DX4</td>\n",
              "      <td>14</td>\n",
              "      <td>18.643448</td>\n",
              "      <td>NO</td>\n",
              "      <td>RURAL</td>\n",
              "      <td>Stable</td>\n",
              "      <td>1.0</td>\n",
              "      <td>1.0</td>\n",
              "      <td>0.0</td>\n",
              "      <td>1.0</td>\n",
              "      <td>1.0</td>\n",
              "      <td>1.0</td>\n",
              "      <td>0.0</td>\n",
              "      <td>5.0</td>\n",
              "      <td>0</td>\n",
              "    </tr>\n",
              "    <tr>\n",
              "      <th>23093</th>\n",
              "      <td>15503</td>\n",
              "      <td>41</td>\n",
              "      <td>2769</td>\n",
              "      <td>DX6</td>\n",
              "      <td>55</td>\n",
              "      <td>23.684585</td>\n",
              "      <td>NO</td>\n",
              "      <td>RURAL</td>\n",
              "      <td>Stable</td>\n",
              "      <td>1.0</td>\n",
              "      <td>0.0</td>\n",
              "      <td>0.0</td>\n",
              "      <td>0.0</td>\n",
              "      <td>0.0</td>\n",
              "      <td>0.0</td>\n",
              "      <td>0.0</td>\n",
              "      <td>1.0</td>\n",
              "      <td>1</td>\n",
              "    </tr>\n",
              "    <tr>\n",
              "      <th>23094</th>\n",
              "      <td>2167</td>\n",
              "      <td>24</td>\n",
              "      <td>7671</td>\n",
              "      <td>DX6</td>\n",
              "      <td>63</td>\n",
              "      <td>27.500039</td>\n",
              "      <td>YES</td>\n",
              "      <td>RURAL</td>\n",
              "      <td>Stable</td>\n",
              "      <td>1.0</td>\n",
              "      <td>0.0</td>\n",
              "      <td>0.0</td>\n",
              "      <td>0.0</td>\n",
              "      <td>0.0</td>\n",
              "      <td>0.0</td>\n",
              "      <td>0.0</td>\n",
              "      <td>1.0</td>\n",
              "      <td>0</td>\n",
              "    </tr>\n",
              "    <tr>\n",
              "      <th>23095</th>\n",
              "      <td>31646</td>\n",
              "      <td>11</td>\n",
              "      <td>5764</td>\n",
              "      <td>DX3</td>\n",
              "      <td>25</td>\n",
              "      <td>23.719125</td>\n",
              "      <td>YES</td>\n",
              "      <td>RURAL</td>\n",
              "      <td>Stable</td>\n",
              "      <td>1.0</td>\n",
              "      <td>0.0</td>\n",
              "      <td>0.0</td>\n",
              "      <td>0.0</td>\n",
              "      <td>1.0</td>\n",
              "      <td>0.0</td>\n",
              "      <td>0.0</td>\n",
              "      <td>2.0</td>\n",
              "      <td>1</td>\n",
              "    </tr>\n",
              "    <tr>\n",
              "      <th>23096</th>\n",
              "      <td>3947</td>\n",
              "      <td>21</td>\n",
              "      <td>6266</td>\n",
              "      <td>DX6</td>\n",
              "      <td>50</td>\n",
              "      <td>18.391156</td>\n",
              "      <td>YES</td>\n",
              "      <td>RURAL</td>\n",
              "      <td>Stable</td>\n",
              "      <td>1.0</td>\n",
              "      <td>0.0</td>\n",
              "      <td>1.0</td>\n",
              "      <td>1.0</td>\n",
              "      <td>1.0</td>\n",
              "      <td>0.0</td>\n",
              "      <td>0.0</td>\n",
              "      <td>4.0</td>\n",
              "      <td>0</td>\n",
              "    </tr>\n",
              "  </tbody>\n",
              "</table>\n",
              "<p>23097 rows × 18 columns</p>\n",
              "</div>"
            ],
            "text/plain": [
              "       ID_Patient_Care_Situation  ...  Survived_1_year\n",
              "0                          22374  ...                0\n",
              "1                          18164  ...                1\n",
              "2                           6283  ...                0\n",
              "3                           5339  ...                1\n",
              "4                          33012  ...                1\n",
              "...                          ...  ...              ...\n",
              "23092                      15613  ...                0\n",
              "23093                      15503  ...                1\n",
              "23094                       2167  ...                0\n",
              "23095                      31646  ...                1\n",
              "23096                       3947  ...                0\n",
              "\n",
              "[23097 rows x 18 columns]"
            ]
          },
          "metadata": {
            "tags": []
          },
          "execution_count": 3
        }
      ]
    },
    {
      "cell_type": "code",
      "metadata": {
        "id": "Xer5auELMp27",
        "colab": {
          "base_uri": "https://localhost:8080/"
        },
        "outputId": "aee7b507-c9ea-4c15-dfe5-857888257646"
      },
      "source": [
        "# A concise summary of the data\r\n",
        "pharma_data.info()"
      ],
      "execution_count": null,
      "outputs": [
        {
          "output_type": "stream",
          "text": [
            "<class 'pandas.core.frame.DataFrame'>\n",
            "RangeIndex: 23097 entries, 0 to 23096\n",
            "Data columns (total 18 columns):\n",
            " #   Column                     Non-Null Count  Dtype  \n",
            "---  ------                     --------------  -----  \n",
            " 0   ID_Patient_Care_Situation  23097 non-null  int64  \n",
            " 1   Diagnosed_Condition        23097 non-null  int64  \n",
            " 2   Patient_ID                 23097 non-null  int64  \n",
            " 3   Treated_with_drugs         23084 non-null  object \n",
            " 4   Patient_Age                23097 non-null  int64  \n",
            " 5   Patient_Body_Mass_Index    23097 non-null  float64\n",
            " 6   Patient_Smoker             23097 non-null  object \n",
            " 7   Patient_Rural_Urban        23097 non-null  object \n",
            " 8   Patient_mental_condition   23097 non-null  object \n",
            " 9   A                          21862 non-null  float64\n",
            " 10  B                          21862 non-null  float64\n",
            " 11  C                          21862 non-null  float64\n",
            " 12  D                          21862 non-null  float64\n",
            " 13  E                          21862 non-null  float64\n",
            " 14  F                          21862 non-null  float64\n",
            " 15  Z                          21862 non-null  float64\n",
            " 16  Number_of_prev_cond        21862 non-null  float64\n",
            " 17  Survived_1_year            23097 non-null  int64  \n",
            "dtypes: float64(9), int64(5), object(4)\n",
            "memory usage: 3.2+ MB\n"
          ],
          "name": "stdout"
        }
      ]
    },
    {
      "cell_type": "markdown",
      "metadata": {
        "id": "ax8Zz9HuSaaZ"
      },
      "source": [
        "**Observations:**\r\n",
        "\r\n",
        "1.   There are 23097 observations divided into 17 columns.\r\n",
        "2.   There are some missing values in the dataset.\r\n",
        "\r\n"
      ]
    },
    {
      "cell_type": "code",
      "metadata": {
        "colab": {
          "base_uri": "https://localhost:8080/",
          "height": 280
        },
        "id": "GxFTykA6Tw4I",
        "outputId": "78a81432-5c59-4ede-8eaa-f8a6539cd359"
      },
      "source": [
        "sns.countplot(x='Survived_1_year', data=pharma_data)\r\n",
        "plt.show()"
      ],
      "execution_count": null,
      "outputs": [
        {
          "output_type": "display_data",
          "data": {
            "image/png": "[encoded data removed]",
            "text/plain": [
              "<Figure size 432x288 with 1 Axes>"
            ]
          },
          "metadata": {
            "tags": [],
            "needs_background": "light"
          }
        }
      ]
    },
    {
      "cell_type": "markdown",
      "metadata": {
        "id": "kE7xhcsVTzcZ"
      },
      "source": [
        "There are 8000 + patients who did not survive after 1 year of treatment and 14000 + patients who survived after 1 year of treatment. The ratio is 1:2 (approx). So there is no class imbalance"
      ]
    },
    {
      "cell_type": "code",
      "metadata": {
        "colab": {
          "base_uri": "https://localhost:8080/"
        },
        "id": "XwzomjKwUCTH",
        "outputId": "c04af475-b7c9-4760-d08b-83cd37ee0127"
      },
      "source": [
        "# Checking the null values in numerical columns\r\n",
        "pharma_data.isnull().sum()"
      ],
      "execution_count": null,
      "outputs": [
        {
          "output_type": "execute_result",
          "data": {
            "text/plain": [
              "ID_Patient_Care_Situation       0\n",
              "Diagnosed_Condition             0\n",
              "Patient_ID                      0\n",
              "Treated_with_drugs             13\n",
              "Patient_Age                     0\n",
              "Patient_Body_Mass_Index         0\n",
              "Patient_Smoker                  0\n",
              "Patient_Rural_Urban             0\n",
              "Patient_mental_condition        0\n",
              "A                            1235\n",
              "B                            1235\n",
              "C                            1235\n",
              "D                            1235\n",
              "E                            1235\n",
              "F                            1235\n",
              "Z                            1235\n",
              "Number_of_prev_cond          1235\n",
              "Survived_1_year                 0\n",
              "dtype: int64"
            ]
          },
          "metadata": {
            "tags": []
          },
          "execution_count": 6
        }
      ]
    },
    {
      "cell_type": "code",
      "metadata": {
        "colab": {
          "base_uri": "https://localhost:8080/"
        },
        "id": "ycK4CC8ETHGc",
        "outputId": "083fb1f8-b71d-4132-fa39-9221769cf075"
      },
      "source": [
        "pharma_data.Treated_with_drugs.value_counts()"
      ],
      "execution_count": null,
      "outputs": [
        {
          "output_type": "execute_result",
          "data": {
            "text/plain": [
              "DX6                     8606\n",
              "DX5                     1909\n",
              "DX2                     1904\n",
              "DX1                     1835\n",
              "DX3                     1830\n",
              "DX4                     1792\n",
              "DX3 DX4                  448\n",
              "DX1 DX2                  448\n",
              "DX1 DX3                  424\n",
              "DX4 DX5                  423\n",
              "DX2 DX4                  419\n",
              "DX1 DX4                  408\n",
              "DX3 DX5                  407\n",
              "DX1 DX5                  402\n",
              "DX2 DX5                  400\n",
              "DX2 DX3                  398\n",
              "DX1 DX2 DX5              103\n",
              "DX1 DX3 DX5              101\n",
              "DX1 DX2 DX4               99\n",
              "DX3 DX4 DX5               96\n",
              "DX1 DX2 DX3               95\n",
              "DX2 DX3 DX5               91\n",
              "DX1 DX3 DX4               90\n",
              "DX2 DX3 DX4               87\n",
              "DX2 DX4 DX5               84\n",
              "DX1 DX4 DX5               80\n",
              "DX1 DX3 DX4 DX5           24\n",
              "DX1 DX2 DX3 DX4           24\n",
              "DX2 DX3 DX4 DX5           22\n",
              "DX1 DX2 DX4 DX5           18\n",
              "DX1 DX2 DX3 DX5           14\n",
              "DX1 DX2 DX3 DX4 DX5        3\n",
              "Name: Treated_with_drugs, dtype: int64"
            ]
          },
          "metadata": {
            "tags": []
          },
          "execution_count": 7
        }
      ]
    },
    {
      "cell_type": "code",
      "metadata": {
        "id": "GHl6E0IbTN8L"
      },
      "source": [
        "pharma_data.Treated_with_drugs.fillna('DX6',inplace=True) # filling the missing value of 'Treated_with_drugs' with its mode"
      ],
      "execution_count": null,
      "outputs": []
    },
    {
      "cell_type": "code",
      "metadata": {
        "id": "sIEKUfClMp28",
        "colab": {
          "base_uri": "https://localhost:8080/"
        },
        "outputId": "9779db92-b151-43e9-c4c2-b7013cd44198"
      },
      "source": [
        "pharma_data.Number_of_prev_cond.value_counts()"
      ],
      "execution_count": null,
      "outputs": [
        {
          "output_type": "execute_result",
          "data": {
            "text/plain": [
              "1.0    9386\n",
              "2.0    9016\n",
              "3.0    3026\n",
              "4.0     397\n",
              "5.0      37\n",
              "Name: Number_of_prev_cond, dtype: int64"
            ]
          },
          "metadata": {
            "tags": []
          },
          "execution_count": 9
        }
      ]
    },
    {
      "cell_type": "code",
      "metadata": {
        "id": "FG-vL1qYTVNd"
      },
      "source": [
        "pharma_data.Number_of_prev_cond.fillna(1.0,inplace=True) # filling the missing value of 'Number_of_prev_cond' with its mode"
      ],
      "execution_count": null,
      "outputs": []
    },
    {
      "cell_type": "code",
      "metadata": {
        "id": "vkrjPQWpMp29",
        "colab": {
          "base_uri": "https://localhost:8080/"
        },
        "outputId": "963dacae-acb4-4959-dd46-079d5ae64640"
      },
      "source": [
        "pharma_data.A.value_counts()"
      ],
      "execution_count": null,
      "outputs": [
        {
          "output_type": "execute_result",
          "data": {
            "text/plain": [
              "1.0    19630\n",
              "0.0     2232\n",
              "Name: A, dtype: int64"
            ]
          },
          "metadata": {
            "tags": []
          },
          "execution_count": 11
        }
      ]
    },
    {
      "cell_type": "code",
      "metadata": {
        "id": "iPrE8_kZMp2-",
        "colab": {
          "base_uri": "https://localhost:8080/"
        },
        "outputId": "259f0e2f-cf71-4b2a-b53c-8700084ac440"
      },
      "source": [
        "pharma_data.B.value_counts()"
      ],
      "execution_count": null,
      "outputs": [
        {
          "output_type": "execute_result",
          "data": {
            "text/plain": [
              "0.0    18881\n",
              "1.0     2981\n",
              "Name: B, dtype: int64"
            ]
          },
          "metadata": {
            "tags": []
          },
          "execution_count": 12
        }
      ]
    },
    {
      "cell_type": "code",
      "metadata": {
        "id": "wyzPN4oGMp2_",
        "colab": {
          "base_uri": "https://localhost:8080/"
        },
        "outputId": "a53ca283-69c1-40a6-8180-1c905018e3df"
      },
      "source": [
        "pharma_data.C.value_counts()"
      ],
      "execution_count": null,
      "outputs": [
        {
          "output_type": "execute_result",
          "data": {
            "text/plain": [
              "0.0    17816\n",
              "1.0     4046\n",
              "Name: C, dtype: int64"
            ]
          },
          "metadata": {
            "tags": []
          },
          "execution_count": 13
        }
      ]
    },
    {
      "cell_type": "code",
      "metadata": {
        "id": "Gf_6YdU_Mp3A",
        "colab": {
          "base_uri": "https://localhost:8080/"
        },
        "outputId": "aea9d3a5-70fe-4f36-ea92-57b3068fb5ca"
      },
      "source": [
        "pharma_data.D.value_counts()"
      ],
      "execution_count": null,
      "outputs": [
        {
          "output_type": "execute_result",
          "data": {
            "text/plain": [
              "0.0    20034\n",
              "1.0     1828\n",
              "Name: D, dtype: int64"
            ]
          },
          "metadata": {
            "tags": []
          },
          "execution_count": 14
        }
      ]
    },
    {
      "cell_type": "code",
      "metadata": {
        "id": "poaDmbTCMp3B",
        "colab": {
          "base_uri": "https://localhost:8080/"
        },
        "outputId": "87919f72-f1d3-4202-893f-40a57b7fc7e5"
      },
      "source": [
        "pharma_data.E.value_counts()"
      ],
      "execution_count": null,
      "outputs": [
        {
          "output_type": "execute_result",
          "data": {
            "text/plain": [
              "0.0    13265\n",
              "1.0     8597\n",
              "Name: E, dtype: int64"
            ]
          },
          "metadata": {
            "tags": []
          },
          "execution_count": 15
        }
      ]
    },
    {
      "cell_type": "code",
      "metadata": {
        "id": "j7g4KRNbMp3C",
        "colab": {
          "base_uri": "https://localhost:8080/"
        },
        "outputId": "f81591fe-7e78-4bea-b6d4-e20c47a76682"
      },
      "source": [
        "pharma_data.F.value_counts()"
      ],
      "execution_count": null,
      "outputs": [
        {
          "output_type": "execute_result",
          "data": {
            "text/plain": [
              "0.0    20688\n",
              "1.0     1174\n",
              "Name: F, dtype: int64"
            ]
          },
          "metadata": {
            "tags": []
          },
          "execution_count": 16
        }
      ]
    },
    {
      "cell_type": "code",
      "metadata": {
        "id": "OL1zzug2Mp3D",
        "colab": {
          "base_uri": "https://localhost:8080/"
        },
        "outputId": "24a4d5e5-3f89-4352-efe1-1a9663c2a810"
      },
      "source": [
        "pharma_data.Z.value_counts()"
      ],
      "execution_count": null,
      "outputs": [
        {
          "output_type": "execute_result",
          "data": {
            "text/plain": [
              "0.0    21849\n",
              "1.0       13\n",
              "Name: Z, dtype: int64"
            ]
          },
          "metadata": {
            "tags": []
          },
          "execution_count": 17
        }
      ]
    },
    {
      "cell_type": "code",
      "metadata": {
        "id": "CVIidP_pMp3E"
      },
      "source": [
        " # filling the missing value of 'A','B','C','D','E','F','Z' with its mode\n",
        "pharma_data.A.fillna(1.0,inplace=True)\n",
        "pharma_data.B.fillna(0.0,inplace=True)\n",
        "pharma_data.C.fillna(0.0,inplace=True)\n",
        "pharma_data.D.fillna(0.0,inplace=True)\n",
        "pharma_data.E.fillna(0.0,inplace=True)\n",
        "pharma_data.F.fillna(0.0,inplace=True)\n",
        "pharma_data.Z.fillna(0.0,inplace=True)"
      ],
      "execution_count": null,
      "outputs": []
    },
    {
      "cell_type": "code",
      "metadata": {
        "id": "w9w32Nz7Mp3F",
        "colab": {
          "base_uri": "https://localhost:8080/"
        },
        "outputId": "2641c37c-8286-4daa-e457-53917b9e94fc"
      },
      "source": [
        "pharma_data.info()"
      ],
      "execution_count": null,
      "outputs": [
        {
          "output_type": "stream",
          "text": [
            "<class 'pandas.core.frame.DataFrame'>\n",
            "RangeIndex: 23097 entries, 0 to 23096\n",
            "Data columns (total 18 columns):\n",
            " #   Column                     Non-Null Count  Dtype  \n",
            "---  ------                     --------------  -----  \n",
            " 0   ID_Patient_Care_Situation  23097 non-null  int64  \n",
            " 1   Diagnosed_Condition        23097 non-null  int64  \n",
            " 2   Patient_ID                 23097 non-null  int64  \n",
            " 3   Treated_with_drugs         23097 non-null  object \n",
            " 4   Patient_Age                23097 non-null  int64  \n",
            " 5   Patient_Body_Mass_Index    23097 non-null  float64\n",
            " 6   Patient_Smoker             23097 non-null  object \n",
            " 7   Patient_Rural_Urban        23097 non-null  object \n",
            " 8   Patient_mental_condition   23097 non-null  object \n",
            " 9   A                          23097 non-null  float64\n",
            " 10  B                          23097 non-null  float64\n",
            " 11  C                          23097 non-null  float64\n",
            " 12  D                          23097 non-null  float64\n",
            " 13  E                          23097 non-null  float64\n",
            " 14  F                          23097 non-null  float64\n",
            " 15  Z                          23097 non-null  float64\n",
            " 16  Number_of_prev_cond        23097 non-null  float64\n",
            " 17  Survived_1_year            23097 non-null  int64  \n",
            "dtypes: float64(9), int64(5), object(4)\n",
            "memory usage: 3.2+ MB\n"
          ],
          "name": "stdout"
        }
      ]
    },
    {
      "cell_type": "markdown",
      "metadata": {
        "id": "98bMQ3z3mfsY"
      },
      "source": [
        "Clearly there are no null values left now"
      ]
    },
    {
      "cell_type": "code",
      "metadata": {
        "id": "_sBQWIngMp3G",
        "colab": {
          "base_uri": "https://localhost:8080/"
        },
        "outputId": "0023531d-8537-4468-88ae-2beb94d08aa9"
      },
      "source": [
        "pharma_data.Patient_mental_condition.value_counts()"
      ],
      "execution_count": null,
      "outputs": [
        {
          "output_type": "execute_result",
          "data": {
            "text/plain": [
              "Stable    23097\n",
              "Name: Patient_mental_condition, dtype: int64"
            ]
          },
          "metadata": {
            "tags": []
          },
          "execution_count": 20
        }
      ]
    },
    {
      "cell_type": "markdown",
      "metadata": {
        "id": "-L66pgfaNd41"
      },
      "source": [
        "**Data Preprocessing and Cleaning**"
      ]
    },
    {
      "cell_type": "code",
      "metadata": {
        "id": "7waIczQPmpF6"
      },
      "source": [
        "# We can split the column 'Treated_with_drugs' in 'DX1-6' corrosponding to value of each patient to clean the data\r\n",
        "pharma_data['DX1']=0\r\n",
        "pharma_data['DX2']=0\r\n",
        "pharma_data['DX3']=0\r\n",
        "pharma_data['DX4']=0\r\n",
        "pharma_data['DX5']=0\r\n",
        "pharma_data['DX6']=0\r\n",
        "pharma_data.loc[pharma_data.Treated_with_drugs.str.contains(\"DX1\"),'DX1']=1\r\n",
        "pharma_data.loc[pharma_data.Treated_with_drugs.str.contains(\"DX2\"),'DX2']=1\r\n",
        "pharma_data.loc[pharma_data.Treated_with_drugs.str.contains(\"DX4\"),'DX4']=1\r\n",
        "pharma_data.loc[pharma_data.Treated_with_drugs.str.contains(\"DX3\"),'DX3']=1\r\n",
        "pharma_data.loc[pharma_data.Treated_with_drugs.str.contains(\"DX5\"),'DX5']=1\r\n",
        "pharma_data.loc[pharma_data.Treated_with_drugs.str.contains(\"DX6\"),'DX6']=1"
      ],
      "execution_count": null,
      "outputs": []
    },
    {
      "cell_type": "code",
      "metadata": {
        "id": "KCVCv9OiMp3I",
        "colab": {
          "base_uri": "https://localhost:8080/",
          "height": 439
        },
        "outputId": "d0672168-395b-4c05-d3f2-3e6cb4155c6a"
      },
      "source": [
        "# Convert textual data in numerical data\n",
        "pharma_data.Patient_Rural_Urban=pharma_data.Patient_Rural_Urban.apply(lambda x: 1 if x=='URBAN' else 0) \n",
        "pharma_data.loc[pharma_data.Patient_Smoker=='YES','Patient_Smoker']=1\n",
        "pharma_data.loc[pharma_data.Patient_Smoker=='NO','Patient_Smoker']=2\n",
        "pharma_data.loc[pharma_data.Patient_Smoker=='Cannot say','Patient_Smoker']=2\n",
        "pharma_data #data after all the processing"
      ],
      "execution_count": null,
      "outputs": [
        {
          "output_type": "execute_result",
          "data": {
            "text/html": [
              "<div>\n",
              "<style scoped>\n",
              "    .dataframe tbody tr th:only-of-type {\n",
              "        vertical-align: middle;\n",
              "    }\n",
              "\n",
              "    .dataframe tbody tr th {\n",
              "        vertical-align: top;\n",
              "    }\n",
              "\n",
              "    .dataframe thead th {\n",
              "        text-align: right;\n",
              "    }\n",
              "</style>\n",
              "<table border=\"1\" class=\"dataframe\">\n",
              "  <thead>\n",
              "    <tr style=\"text-align: right;\">\n",
              "      <th></th>\n",
              "      <th>ID_Patient_Care_Situation</th>\n",
              "      <th>Diagnosed_Condition</th>\n",
              "      <th>Patient_ID</th>\n",
              "      <th>Treated_with_drugs</th>\n",
              "      <th>Patient_Age</th>\n",
              "      <th>Patient_Body_Mass_Index</th>\n",
              "      <th>Patient_Smoker</th>\n",
              "      <th>Patient_Rural_Urban</th>\n",
              "      <th>Patient_mental_condition</th>\n",
              "      <th>A</th>\n",
              "      <th>B</th>\n",
              "      <th>C</th>\n",
              "      <th>D</th>\n",
              "      <th>E</th>\n",
              "      <th>F</th>\n",
              "      <th>Z</th>\n",
              "      <th>Number_of_prev_cond</th>\n",
              "      <th>Survived_1_year</th>\n",
              "      <th>DX1</th>\n",
              "      <th>DX2</th>\n",
              "      <th>DX3</th>\n",
              "      <th>DX4</th>\n",
              "      <th>DX5</th>\n",
              "      <th>DX6</th>\n",
              "    </tr>\n",
              "  </thead>\n",
              "  <tbody>\n",
              "    <tr>\n",
              "      <th>0</th>\n",
              "      <td>22374</td>\n",
              "      <td>8</td>\n",
              "      <td>3333</td>\n",
              "      <td>DX6</td>\n",
              "      <td>56</td>\n",
              "      <td>18.479385</td>\n",
              "      <td>1</td>\n",
              "      <td>1</td>\n",
              "      <td>Stable</td>\n",
              "      <td>1.0</td>\n",
              "      <td>0.0</td>\n",
              "      <td>0.0</td>\n",
              "      <td>0.0</td>\n",
              "      <td>1.0</td>\n",
              "      <td>0.0</td>\n",
              "      <td>0.0</td>\n",
              "      <td>2.0</td>\n",
              "      <td>0</td>\n",
              "      <td>0</td>\n",
              "      <td>0</td>\n",
              "      <td>0</td>\n",
              "      <td>0</td>\n",
              "      <td>0</td>\n",
              "      <td>1</td>\n",
              "    </tr>\n",
              "    <tr>\n",
              "      <th>1</th>\n",
              "      <td>18164</td>\n",
              "      <td>5</td>\n",
              "      <td>5740</td>\n",
              "      <td>DX2</td>\n",
              "      <td>36</td>\n",
              "      <td>22.945566</td>\n",
              "      <td>1</td>\n",
              "      <td>0</td>\n",
              "      <td>Stable</td>\n",
              "      <td>1.0</td>\n",
              "      <td>0.0</td>\n",
              "      <td>0.0</td>\n",
              "      <td>0.0</td>\n",
              "      <td>0.0</td>\n",
              "      <td>0.0</td>\n",
              "      <td>0.0</td>\n",
              "      <td>1.0</td>\n",
              "      <td>1</td>\n",
              "      <td>0</td>\n",
              "      <td>1</td>\n",
              "      <td>0</td>\n",
              "      <td>0</td>\n",
              "      <td>0</td>\n",
              "      <td>0</td>\n",
              "    </tr>\n",
              "    <tr>\n",
              "      <th>2</th>\n",
              "      <td>6283</td>\n",
              "      <td>23</td>\n",
              "      <td>10446</td>\n",
              "      <td>DX6</td>\n",
              "      <td>48</td>\n",
              "      <td>27.510027</td>\n",
              "      <td>1</td>\n",
              "      <td>0</td>\n",
              "      <td>Stable</td>\n",
              "      <td>1.0</td>\n",
              "      <td>0.0</td>\n",
              "      <td>0.0</td>\n",
              "      <td>0.0</td>\n",
              "      <td>0.0</td>\n",
              "      <td>0.0</td>\n",
              "      <td>0.0</td>\n",
              "      <td>1.0</td>\n",
              "      <td>0</td>\n",
              "      <td>0</td>\n",
              "      <td>0</td>\n",
              "      <td>0</td>\n",
              "      <td>0</td>\n",
              "      <td>0</td>\n",
              "      <td>1</td>\n",
              "    </tr>\n",
              "    <tr>\n",
              "      <th>3</th>\n",
              "      <td>5339</td>\n",
              "      <td>51</td>\n",
              "      <td>12011</td>\n",
              "      <td>DX1</td>\n",
              "      <td>5</td>\n",
              "      <td>19.130976</td>\n",
              "      <td>2</td>\n",
              "      <td>1</td>\n",
              "      <td>Stable</td>\n",
              "      <td>1.0</td>\n",
              "      <td>0.0</td>\n",
              "      <td>0.0</td>\n",
              "      <td>0.0</td>\n",
              "      <td>0.0</td>\n",
              "      <td>0.0</td>\n",
              "      <td>0.0</td>\n",
              "      <td>1.0</td>\n",
              "      <td>1</td>\n",
              "      <td>1</td>\n",
              "      <td>0</td>\n",
              "      <td>0</td>\n",
              "      <td>0</td>\n",
              "      <td>0</td>\n",
              "      <td>0</td>\n",
              "    </tr>\n",
              "    <tr>\n",
              "      <th>4</th>\n",
              "      <td>33012</td>\n",
              "      <td>0</td>\n",
              "      <td>12513</td>\n",
              "      <td>DX6</td>\n",
              "      <td>128</td>\n",
              "      <td>1.348400</td>\n",
              "      <td>2</td>\n",
              "      <td>0</td>\n",
              "      <td>Stable</td>\n",
              "      <td>0.0</td>\n",
              "      <td>0.0</td>\n",
              "      <td>0.0</td>\n",
              "      <td>0.0</td>\n",
              "      <td>0.0</td>\n",
              "      <td>0.0</td>\n",
              "      <td>1.0</td>\n",
              "      <td>1.0</td>\n",
              "      <td>1</td>\n",
              "      <td>0</td>\n",
              "      <td>0</td>\n",
              "      <td>0</td>\n",
              "      <td>0</td>\n",
              "      <td>0</td>\n",
              "      <td>1</td>\n",
              "    </tr>\n",
              "    <tr>\n",
              "      <th>...</th>\n",
              "      <td>...</td>\n",
              "      <td>...</td>\n",
              "      <td>...</td>\n",
              "      <td>...</td>\n",
              "      <td>...</td>\n",
              "      <td>...</td>\n",
              "      <td>...</td>\n",
              "      <td>...</td>\n",
              "      <td>...</td>\n",
              "      <td>...</td>\n",
              "      <td>...</td>\n",
              "      <td>...</td>\n",
              "      <td>...</td>\n",
              "      <td>...</td>\n",
              "      <td>...</td>\n",
              "      <td>...</td>\n",
              "      <td>...</td>\n",
              "      <td>...</td>\n",
              "      <td>...</td>\n",
              "      <td>...</td>\n",
              "      <td>...</td>\n",
              "      <td>...</td>\n",
              "      <td>...</td>\n",
              "      <td>...</td>\n",
              "    </tr>\n",
              "    <tr>\n",
              "      <th>23092</th>\n",
              "      <td>15613</td>\n",
              "      <td>3</td>\n",
              "      <td>1548</td>\n",
              "      <td>DX2 DX4</td>\n",
              "      <td>14</td>\n",
              "      <td>18.643448</td>\n",
              "      <td>2</td>\n",
              "      <td>0</td>\n",
              "      <td>Stable</td>\n",
              "      <td>1.0</td>\n",
              "      <td>1.0</td>\n",
              "      <td>0.0</td>\n",
              "      <td>1.0</td>\n",
              "      <td>1.0</td>\n",
              "      <td>1.0</td>\n",
              "      <td>0.0</td>\n",
              "      <td>5.0</td>\n",
              "      <td>0</td>\n",
              "      <td>0</td>\n",
              "      <td>1</td>\n",
              "      <td>0</td>\n",
              "      <td>1</td>\n",
              "      <td>0</td>\n",
              "      <td>0</td>\n",
              "    </tr>\n",
              "    <tr>\n",
              "      <th>23093</th>\n",
              "      <td>15503</td>\n",
              "      <td>41</td>\n",
              "      <td>2769</td>\n",
              "      <td>DX6</td>\n",
              "      <td>55</td>\n",
              "      <td>23.684585</td>\n",
              "      <td>2</td>\n",
              "      <td>0</td>\n",
              "      <td>Stable</td>\n",
              "      <td>1.0</td>\n",
              "      <td>0.0</td>\n",
              "      <td>0.0</td>\n",
              "      <td>0.0</td>\n",
              "      <td>0.0</td>\n",
              "      <td>0.0</td>\n",
              "      <td>0.0</td>\n",
              "      <td>1.0</td>\n",
              "      <td>1</td>\n",
              "      <td>0</td>\n",
              "      <td>0</td>\n",
              "      <td>0</td>\n",
              "      <td>0</td>\n",
              "      <td>0</td>\n",
              "      <td>1</td>\n",
              "    </tr>\n",
              "    <tr>\n",
              "      <th>23094</th>\n",
              "      <td>2167</td>\n",
              "      <td>24</td>\n",
              "      <td>7671</td>\n",
              "      <td>DX6</td>\n",
              "      <td>63</td>\n",
              "      <td>27.500039</td>\n",
              "      <td>1</td>\n",
              "      <td>0</td>\n",
              "      <td>Stable</td>\n",
              "      <td>1.0</td>\n",
              "      <td>0.0</td>\n",
              "      <td>0.0</td>\n",
              "      <td>0.0</td>\n",
              "      <td>0.0</td>\n",
              "      <td>0.0</td>\n",
              "      <td>0.0</td>\n",
              "      <td>1.0</td>\n",
              "      <td>0</td>\n",
              "      <td>0</td>\n",
              "      <td>0</td>\n",
              "      <td>0</td>\n",
              "      <td>0</td>\n",
              "      <td>0</td>\n",
              "      <td>1</td>\n",
              "    </tr>\n",
              "    <tr>\n",
              "      <th>23095</th>\n",
              "      <td>31646</td>\n",
              "      <td>11</td>\n",
              "      <td>5764</td>\n",
              "      <td>DX3</td>\n",
              "      <td>25</td>\n",
              "      <td>23.719125</td>\n",
              "      <td>1</td>\n",
              "      <td>0</td>\n",
              "      <td>Stable</td>\n",
              "      <td>1.0</td>\n",
              "      <td>0.0</td>\n",
              "      <td>0.0</td>\n",
              "      <td>0.0</td>\n",
              "      <td>1.0</td>\n",
              "      <td>0.0</td>\n",
              "      <td>0.0</td>\n",
              "      <td>2.0</td>\n",
              "      <td>1</td>\n",
              "      <td>0</td>\n",
              "      <td>0</td>\n",
              "      <td>1</td>\n",
              "      <td>0</td>\n",
              "      <td>0</td>\n",
              "      <td>0</td>\n",
              "    </tr>\n",
              "    <tr>\n",
              "      <th>23096</th>\n",
              "      <td>3947</td>\n",
              "      <td>21</td>\n",
              "      <td>6266</td>\n",
              "      <td>DX6</td>\n",
              "      <td>50</td>\n",
              "      <td>18.391156</td>\n",
              "      <td>1</td>\n",
              "      <td>0</td>\n",
              "      <td>Stable</td>\n",
              "      <td>1.0</td>\n",
              "      <td>0.0</td>\n",
              "      <td>1.0</td>\n",
              "      <td>1.0</td>\n",
              "      <td>1.0</td>\n",
              "      <td>0.0</td>\n",
              "      <td>0.0</td>\n",
              "      <td>4.0</td>\n",
              "      <td>0</td>\n",
              "      <td>0</td>\n",
              "      <td>0</td>\n",
              "      <td>0</td>\n",
              "      <td>0</td>\n",
              "      <td>0</td>\n",
              "      <td>1</td>\n",
              "    </tr>\n",
              "  </tbody>\n",
              "</table>\n",
              "<p>23097 rows × 24 columns</p>\n",
              "</div>"
            ],
            "text/plain": [
              "       ID_Patient_Care_Situation  Diagnosed_Condition  ...  DX5 DX6\n",
              "0                          22374                    8  ...    0   1\n",
              "1                          18164                    5  ...    0   0\n",
              "2                           6283                   23  ...    0   1\n",
              "3                           5339                   51  ...    0   0\n",
              "4                          33012                    0  ...    0   1\n",
              "...                          ...                  ...  ...  ...  ..\n",
              "23092                      15613                    3  ...    0   0\n",
              "23093                      15503                   41  ...    0   1\n",
              "23094                       2167                   24  ...    0   1\n",
              "23095                      31646                   11  ...    0   0\n",
              "23096                       3947                   21  ...    0   1\n",
              "\n",
              "[23097 rows x 24 columns]"
            ]
          },
          "metadata": {
            "tags": []
          },
          "execution_count": 22
        }
      ]
    },
    {
      "cell_type": "code",
      "metadata": {
        "id": "LzVNbHQYMp3N"
      },
      "source": [
        "# For feeding and testing our model, we can use 'pharma_data' and split it in 'X' and 'Y' as our features and result\n",
        "X=pharma_data[[ 'Diagnosed_Condition','Patient_Age', 'Patient_Body_Mass_Index','Patient_Smoker', 'Patient_Rural_Urban','A', 'B', 'C', 'D', 'E', 'F', 'Number_of_prev_cond', 'DX1', 'DX2', 'DX3', 'DX4', 'DX5', 'DX6']]\n",
        "Y=pharma_data['Survived_1_year']"
      ],
      "execution_count": null,
      "outputs": []
    },
    {
      "cell_type": "code",
      "metadata": {
        "id": "RBgEL-rjMp3O"
      },
      "source": [
        "# Preprocess our features in 'X' for better calculations\n",
        "from sklearn.preprocessing import StandardScaler\n",
        "scaler = StandardScaler()\n",
        "scaler.fit(X)\n",
        "X=pd.DataFrame(scaler.transform(X))"
      ],
      "execution_count": null,
      "outputs": []
    },
    {
      "cell_type": "code",
      "metadata": {
        "id": "8usyCweiMp3P",
        "colab": {
          "base_uri": "https://localhost:8080/",
          "height": 439
        },
        "outputId": "68e65164-1d1f-4d03-96d8-e1db47431438"
      },
      "source": [
        "X"
      ],
      "execution_count": null,
      "outputs": [
        {
          "output_type": "execute_result",
          "data": {
            "text/html": [
              "<div>\n",
              "<style scoped>\n",
              "    .dataframe tbody tr th:only-of-type {\n",
              "        vertical-align: middle;\n",
              "    }\n",
              "\n",
              "    .dataframe tbody tr th {\n",
              "        vertical-align: top;\n",
              "    }\n",
              "\n",
              "    .dataframe thead th {\n",
              "        text-align: right;\n",
              "    }\n",
              "</style>\n",
              "<table border=\"1\" class=\"dataframe\">\n",
              "  <thead>\n",
              "    <tr style=\"text-align: right;\">\n",
              "      <th></th>\n",
              "      <th>0</th>\n",
              "      <th>1</th>\n",
              "      <th>2</th>\n",
              "      <th>3</th>\n",
              "      <th>4</th>\n",
              "      <th>5</th>\n",
              "      <th>6</th>\n",
              "      <th>7</th>\n",
              "      <th>8</th>\n",
              "      <th>9</th>\n",
              "      <th>10</th>\n",
              "      <th>11</th>\n",
              "      <th>12</th>\n",
              "      <th>13</th>\n",
              "      <th>14</th>\n",
              "      <th>15</th>\n",
              "      <th>16</th>\n",
              "      <th>17</th>\n",
              "    </tr>\n",
              "  </thead>\n",
              "  <tbody>\n",
              "    <tr>\n",
              "      <th>0</th>\n",
              "      <td>-1.225048</td>\n",
              "      <td>1.165773</td>\n",
              "      <td>-1.306719</td>\n",
              "      <td>-1.160919</td>\n",
              "      <td>1.522204</td>\n",
              "      <td>0.327068</td>\n",
              "      <td>-0.384955</td>\n",
              "      <td>-0.460844</td>\n",
              "      <td>-0.293167</td>\n",
              "      <td>1.298705</td>\n",
              "      <td>-0.231411</td>\n",
              "      <td>0.377048</td>\n",
              "      <td>-0.469245</td>\n",
              "      <td>-0.472059</td>\n",
              "      <td>-0.468284</td>\n",
              "      <td>-0.465739</td>\n",
              "      <td>-0.469863</td>\n",
              "      <td>1.296062</td>\n",
              "    </tr>\n",
              "    <tr>\n",
              "      <th>1</th>\n",
              "      <td>-1.424641</td>\n",
              "      <td>0.142727</td>\n",
              "      <td>-0.133747</td>\n",
              "      <td>-1.160919</td>\n",
              "      <td>-0.656942</td>\n",
              "      <td>0.327068</td>\n",
              "      <td>-0.384955</td>\n",
              "      <td>-0.460844</td>\n",
              "      <td>-0.293167</td>\n",
              "      <td>-0.769998</td>\n",
              "      <td>-0.231411</td>\n",
              "      <td>-0.924697</td>\n",
              "      <td>-0.469245</td>\n",
              "      <td>2.118378</td>\n",
              "      <td>-0.468284</td>\n",
              "      <td>-0.465739</td>\n",
              "      <td>-0.469863</td>\n",
              "      <td>-0.771568</td>\n",
              "    </tr>\n",
              "    <tr>\n",
              "      <th>2</th>\n",
              "      <td>-0.227079</td>\n",
              "      <td>0.756555</td>\n",
              "      <td>1.065036</td>\n",
              "      <td>-1.160919</td>\n",
              "      <td>-0.656942</td>\n",
              "      <td>0.327068</td>\n",
              "      <td>-0.384955</td>\n",
              "      <td>-0.460844</td>\n",
              "      <td>-0.293167</td>\n",
              "      <td>-0.769998</td>\n",
              "      <td>-0.231411</td>\n",
              "      <td>-0.924697</td>\n",
              "      <td>-0.469245</td>\n",
              "      <td>-0.472059</td>\n",
              "      <td>-0.468284</td>\n",
              "      <td>-0.465739</td>\n",
              "      <td>-0.469863</td>\n",
              "      <td>1.296062</td>\n",
              "    </tr>\n",
              "    <tr>\n",
              "      <th>3</th>\n",
              "      <td>1.635794</td>\n",
              "      <td>-1.442995</td>\n",
              "      <td>-1.135589</td>\n",
              "      <td>0.861386</td>\n",
              "      <td>1.522204</td>\n",
              "      <td>0.327068</td>\n",
              "      <td>-0.384955</td>\n",
              "      <td>-0.460844</td>\n",
              "      <td>-0.293167</td>\n",
              "      <td>-0.769998</td>\n",
              "      <td>-0.231411</td>\n",
              "      <td>-0.924697</td>\n",
              "      <td>2.131081</td>\n",
              "      <td>-0.472059</td>\n",
              "      <td>-0.468284</td>\n",
              "      <td>-0.465739</td>\n",
              "      <td>-0.469863</td>\n",
              "      <td>-0.771568</td>\n",
              "    </tr>\n",
              "    <tr>\n",
              "      <th>4</th>\n",
              "      <td>-1.757297</td>\n",
              "      <td>4.848739</td>\n",
              "      <td>-5.805900</td>\n",
              "      <td>0.861386</td>\n",
              "      <td>-0.656942</td>\n",
              "      <td>-3.057469</td>\n",
              "      <td>-0.384955</td>\n",
              "      <td>-0.460844</td>\n",
              "      <td>-0.293167</td>\n",
              "      <td>-0.769998</td>\n",
              "      <td>-0.231411</td>\n",
              "      <td>-0.924697</td>\n",
              "      <td>-0.469245</td>\n",
              "      <td>-0.472059</td>\n",
              "      <td>-0.468284</td>\n",
              "      <td>-0.465739</td>\n",
              "      <td>-0.469863</td>\n",
              "      <td>1.296062</td>\n",
              "    </tr>\n",
              "    <tr>\n",
              "      <th>...</th>\n",
              "      <td>...</td>\n",
              "      <td>...</td>\n",
              "      <td>...</td>\n",
              "      <td>...</td>\n",
              "      <td>...</td>\n",
              "      <td>...</td>\n",
              "      <td>...</td>\n",
              "      <td>...</td>\n",
              "      <td>...</td>\n",
              "      <td>...</td>\n",
              "      <td>...</td>\n",
              "      <td>...</td>\n",
              "      <td>...</td>\n",
              "      <td>...</td>\n",
              "      <td>...</td>\n",
              "      <td>...</td>\n",
              "      <td>...</td>\n",
              "      <td>...</td>\n",
              "    </tr>\n",
              "    <tr>\n",
              "      <th>23092</th>\n",
              "      <td>-1.557704</td>\n",
              "      <td>-0.982624</td>\n",
              "      <td>-1.263630</td>\n",
              "      <td>0.861386</td>\n",
              "      <td>-0.656942</td>\n",
              "      <td>0.327068</td>\n",
              "      <td>2.597705</td>\n",
              "      <td>-0.460844</td>\n",
              "      <td>3.411029</td>\n",
              "      <td>1.298705</td>\n",
              "      <td>4.321315</td>\n",
              "      <td>4.282282</td>\n",
              "      <td>-0.469245</td>\n",
              "      <td>2.118378</td>\n",
              "      <td>-0.468284</td>\n",
              "      <td>2.147127</td>\n",
              "      <td>-0.469863</td>\n",
              "      <td>-0.771568</td>\n",
              "    </tr>\n",
              "    <tr>\n",
              "      <th>23093</th>\n",
              "      <td>0.970482</td>\n",
              "      <td>1.114621</td>\n",
              "      <td>0.060344</td>\n",
              "      <td>0.861386</td>\n",
              "      <td>-0.656942</td>\n",
              "      <td>0.327068</td>\n",
              "      <td>-0.384955</td>\n",
              "      <td>-0.460844</td>\n",
              "      <td>-0.293167</td>\n",
              "      <td>-0.769998</td>\n",
              "      <td>-0.231411</td>\n",
              "      <td>-0.924697</td>\n",
              "      <td>-0.469245</td>\n",
              "      <td>-0.472059</td>\n",
              "      <td>-0.468284</td>\n",
              "      <td>-0.465739</td>\n",
              "      <td>-0.469863</td>\n",
              "      <td>1.296062</td>\n",
              "    </tr>\n",
              "    <tr>\n",
              "      <th>23094</th>\n",
              "      <td>-0.160548</td>\n",
              "      <td>1.523839</td>\n",
              "      <td>1.062413</td>\n",
              "      <td>-1.160919</td>\n",
              "      <td>-0.656942</td>\n",
              "      <td>0.327068</td>\n",
              "      <td>-0.384955</td>\n",
              "      <td>-0.460844</td>\n",
              "      <td>-0.293167</td>\n",
              "      <td>-0.769998</td>\n",
              "      <td>-0.231411</td>\n",
              "      <td>-0.924697</td>\n",
              "      <td>-0.469245</td>\n",
              "      <td>-0.472059</td>\n",
              "      <td>-0.468284</td>\n",
              "      <td>-0.465739</td>\n",
              "      <td>-0.469863</td>\n",
              "      <td>1.296062</td>\n",
              "    </tr>\n",
              "    <tr>\n",
              "      <th>23095</th>\n",
              "      <td>-1.025454</td>\n",
              "      <td>-0.419949</td>\n",
              "      <td>0.069416</td>\n",
              "      <td>-1.160919</td>\n",
              "      <td>-0.656942</td>\n",
              "      <td>0.327068</td>\n",
              "      <td>-0.384955</td>\n",
              "      <td>-0.460844</td>\n",
              "      <td>-0.293167</td>\n",
              "      <td>1.298705</td>\n",
              "      <td>-0.231411</td>\n",
              "      <td>0.377048</td>\n",
              "      <td>-0.469245</td>\n",
              "      <td>-0.472059</td>\n",
              "      <td>2.135458</td>\n",
              "      <td>-0.465739</td>\n",
              "      <td>-0.469863</td>\n",
              "      <td>-0.771568</td>\n",
              "    </tr>\n",
              "    <tr>\n",
              "      <th>23096</th>\n",
              "      <td>-0.360142</td>\n",
              "      <td>0.858859</td>\n",
              "      <td>-1.329891</td>\n",
              "      <td>-1.160919</td>\n",
              "      <td>-0.656942</td>\n",
              "      <td>0.327068</td>\n",
              "      <td>-0.384955</td>\n",
              "      <td>2.169931</td>\n",
              "      <td>3.411029</td>\n",
              "      <td>1.298705</td>\n",
              "      <td>-0.231411</td>\n",
              "      <td>2.980537</td>\n",
              "      <td>-0.469245</td>\n",
              "      <td>-0.472059</td>\n",
              "      <td>-0.468284</td>\n",
              "      <td>-0.465739</td>\n",
              "      <td>-0.469863</td>\n",
              "      <td>1.296062</td>\n",
              "    </tr>\n",
              "  </tbody>\n",
              "</table>\n",
              "<p>23097 rows × 18 columns</p>\n",
              "</div>"
            ],
            "text/plain": [
              "             0         1         2   ...        15        16        17\n",
              "0     -1.225048  1.165773 -1.306719  ... -0.465739 -0.469863  1.296062\n",
              "1     -1.424641  0.142727 -0.133747  ... -0.465739 -0.469863 -0.771568\n",
              "2     -0.227079  0.756555  1.065036  ... -0.465739 -0.469863  1.296062\n",
              "3      1.635794 -1.442995 -1.135589  ... -0.465739 -0.469863 -0.771568\n",
              "4     -1.757297  4.848739 -5.805900  ... -0.465739 -0.469863  1.296062\n",
              "...         ...       ...       ...  ...       ...       ...       ...\n",
              "23092 -1.557704 -0.982624 -1.263630  ...  2.147127 -0.469863 -0.771568\n",
              "23093  0.970482  1.114621  0.060344  ... -0.465739 -0.469863  1.296062\n",
              "23094 -0.160548  1.523839  1.062413  ... -0.465739 -0.469863  1.296062\n",
              "23095 -1.025454 -0.419949  0.069416  ... -0.465739 -0.469863 -0.771568\n",
              "23096 -0.360142  0.858859 -1.329891  ... -0.465739 -0.469863  1.296062\n",
              "\n",
              "[23097 rows x 18 columns]"
            ]
          },
          "metadata": {
            "tags": []
          },
          "execution_count": 25
        }
      ]
    },
    {
      "cell_type": "markdown",
      "metadata": {
        "id": "d50-kDNXNqLp"
      },
      "source": [
        "**Training and Testing Data**"
      ]
    },
    {
      "cell_type": "markdown",
      "metadata": {
        "id": "7dZ05Mu1u_ON"
      },
      "source": [
        "We will initially train our model on 75% of first 20000 values and test on next 25% of first 20000 values. \r\n",
        "\r\n",
        "Later on, we will validate our model.\r\n",
        "\r\n"
      ]
    },
    {
      "cell_type": "code",
      "metadata": {
        "id": "odve-9MNMp3Q"
      },
      "source": [
        "from sklearn.model_selection import train_test_split\n",
        "from sklearn.metrics import f1_score"
      ],
      "execution_count": null,
      "outputs": []
    },
    {
      "cell_type": "code",
      "metadata": {
        "id": "PLmpG9ds3cTr"
      },
      "source": [
        "x_train, x_test, y_train, y_test = train_test_split(X[:20000], Y[:20000], test_size=0.25) #Get values for test and train sets"
      ],
      "execution_count": null,
      "outputs": []
    },
    {
      "cell_type": "markdown",
      "metadata": {
        "id": "N3MvVJejDqmF"
      },
      "source": [
        "We will test three classifiers - Logistic Regression, Random Forest and Gradient Booster Classifier and use the one which gives us the best results."
      ]
    },
    {
      "cell_type": "code",
      "metadata": {
        "colab": {
          "base_uri": "https://localhost:8080/"
        },
        "id": "ojJlrG2FDpVO",
        "outputId": "1c209c0b-8d53-457f-a969-4fe718121385"
      },
      "source": [
        "from sklearn.linear_model import LogisticRegression     # Logistic regression model\r\n",
        "\r\n",
        "model = LogisticRegression(max_iter = 1000)     # The maximum number of iterations will be 1000. This will help prevent from convergence warning.\r\n",
        "model.fit(x_train,y_train)\r\n",
        "pred = model.predict(x_test)\r\n",
        "print(f1_score(y_test,pred))"
      ],
      "execution_count": null,
      "outputs": [
        {
          "output_type": "stream",
          "text": [
            "0.7947959787108221\n"
          ],
          "name": "stdout"
        }
      ]
    },
    {
      "cell_type": "code",
      "metadata": {
        "colab": {
          "base_uri": "https://localhost:8080/"
        },
        "id": "hPP_VjT5EcUf",
        "outputId": "32ea1ac2-caab-43ec-89c3-89468ffe0f1c"
      },
      "source": [
        "from sklearn.ensemble import RandomForestClassifier #Random Forest Model\r\n",
        "\r\n",
        "forest = RandomForestClassifier()\r\n",
        "forest.fit(x_train, y_train)\r\n",
        "y_pred = forest.predict(x_test)\r\n",
        "f1_score(y_test ,y_pred)"
      ],
      "execution_count": null,
      "outputs": [
        {
          "output_type": "execute_result",
          "data": {
            "text/plain": [
              "0.8499531103469835"
            ]
          },
          "metadata": {
            "tags": []
          },
          "execution_count": 29
        }
      ]
    },
    {
      "cell_type": "code",
      "metadata": {
        "colab": {
          "base_uri": "https://localhost:8080/"
        },
        "id": "iBSwPoyRE-KM",
        "outputId": "bd10530d-297e-419d-9ea2-a64c7f2aeaf9"
      },
      "source": [
        "from sklearn.ensemble import GradientBoostingClassifier #Gradient boosting classifier\r\n",
        "\r\n",
        "model = GradientBoostingClassifier()\r\n",
        "model.fit(x_train, y_train)\r\n",
        "pred = model.predict(x_test)\r\n",
        "f1_score(pred,y_test)"
      ],
      "execution_count": null,
      "outputs": [
        {
          "output_type": "execute_result",
          "data": {
            "text/plain": [
              "0.8626847290640394"
            ]
          },
          "metadata": {
            "tags": []
          },
          "execution_count": 30
        }
      ]
    },
    {
      "cell_type": "markdown",
      "metadata": {
        "id": "yn1OXMNo3iku"
      },
      "source": [
        "According to results, we get the **maximum score for Gradient boosting**. So we will try to further enhance the results.\r\n",
        "\r\n",
        "We will now train and test using Gradient Boosting Classifier on our data for different values of parameters and find the optimum parameters."
      ]
    },
    {
      "cell_type": "markdown",
      "metadata": {
        "id": "Yi_EjGd5PCPv"
      },
      "source": [
        "**Hyperparameter Tuning**"
      ]
    },
    {
      "cell_type": "code",
      "metadata": {
        "id": "o4xRteuXMp3R",
        "colab": {
          "base_uri": "https://localhost:8080/"
        },
        "outputId": "9f3dd831-935c-485b-ad2e-023997884fbb"
      },
      "source": [
        "# We will now train and test our model for different values of learning_rates as parameter\n",
        "learning_rates = [1, 0.5, 0.25, 0.1, 0.05, 0.01]\n",
        "best_lr=[]\n",
        "for eta in learning_rates:\n",
        "    model = GradientBoostingClassifier(learning_rate=eta)\n",
        "    model.fit(x_train, y_train)\n",
        "    pred = model.predict(x_test)\n",
        "    print(f1_score(pred,y_test))\n",
        "    if (f1_score(pred,y_test))>0.86:\n",
        "        best_lr.append(eta)"
      ],
      "execution_count": null,
      "outputs": [
        {
          "output_type": "stream",
          "text": [
            "0.8644757433489828\n",
            "0.868408699734001\n",
            "0.8682774746687452\n",
            "0.8626847290640394\n",
            "0.854954954954955\n",
            "0.8217779668226286\n"
          ],
          "name": "stdout"
        }
      ]
    },
    {
      "cell_type": "code",
      "metadata": {
        "id": "krVimfLyMp3R",
        "colab": {
          "base_uri": "https://localhost:8080/"
        },
        "outputId": "14c02732-714b-4b56-e43f-ad88d79b160a"
      },
      "source": [
        "# We will now train and test our model for different values of n_estimators as parameter\n",
        "n_estimators = [1, 2, 4, 8, 16, 32, 64, 100, 200, 300,400,500,1000]\n",
        "best_est=[]\n",
        "for estimator in n_estimators:\n",
        "    model = GradientBoostingClassifier(n_estimators=estimator)\n",
        "    model.fit(x_train, y_train)\n",
        "    pred = model.predict(x_test)\n",
        "    print(f1_score(pred,y_test))\n",
        "    if f1_score(pred,y_test)>0.86:\n",
        "        best_est.append(estimator)"
      ],
      "execution_count": null,
      "outputs": [
        {
          "output_type": "stream",
          "text": [
            "0.7733071638861629\n",
            "0.7733071638861629\n",
            "0.7896521411528319\n",
            "0.8185200496072756\n",
            "0.8338630453626118\n",
            "0.8492425356670098\n",
            "0.8588770864946889\n",
            "0.8626847290640394\n",
            "0.8653517626960708\n",
            "0.8687655860349126\n",
            "0.8697144640349508\n",
            "0.8685732145647758\n",
            "0.8678178963893249\n"
          ],
          "name": "stdout"
        }
      ]
    },
    {
      "cell_type": "code",
      "metadata": {
        "id": "s4_RD5zfMp3S",
        "colab": {
          "base_uri": "https://localhost:8080/"
        },
        "outputId": "92405663-4cb0-400f-ca5e-2f0de8f35b35"
      },
      "source": [
        "# We will now train and test our model for different values of max_depths as parameter\n",
        "max_depths = np.linspace(1, 32, 32, endpoint=True)\n",
        "best_md=[]\n",
        "for max_depth in max_depths:\n",
        "    model = GradientBoostingClassifier(max_depth=max_depth) \n",
        "    model.fit(x_train, y_train)\n",
        "    pred = model.predict(x_test)\n",
        "    print(f1_score(pred,y_test))\n",
        "    if f1_score(pred,y_test)>0.86:\n",
        "        best_md.append(max_depth)"
      ],
      "execution_count": null,
      "outputs": [
        {
          "output_type": "stream",
          "text": [
            "0.8353587962962963\n",
            "0.8552064078866297\n",
            "0.8626847290640394\n",
            "0.8662538699690402\n",
            "0.8655645664379289\n",
            "0.8661762404132102\n",
            "0.8645080163470606\n",
            "0.8642868375530744\n",
            "0.8615770496943095\n",
            "0.8539078471457776\n",
            "0.8531402487014008\n",
            "0.848646110502426\n",
            "0.8425184487360653\n",
            "0.8416915579311429\n",
            "0.8357927786499215\n",
            "0.8350612629594723\n",
            "0.8359240069084629\n",
            "0.829268292682927\n",
            "0.8277277751460603\n",
            "0.8215925280987811\n",
            "0.81790664330094\n",
            "0.8181673812926791\n",
            "0.8136349155782097\n",
            "0.815262321144674\n",
            "0.8162549800796813\n",
            "0.8132951653944019\n",
            "0.8172111553784861\n",
            "0.8143312101910828\n",
            "0.8131272901067389\n",
            "0.813435211716014\n",
            "0.8141536499840611\n",
            "0.8144609014174232\n"
          ],
          "name": "stdout"
        }
      ]
    },
    {
      "cell_type": "code",
      "metadata": {
        "id": "J44k79ZZMp3T",
        "colab": {
          "base_uri": "https://localhost:8080/"
        },
        "outputId": "098a2fe9-3990-48da-f000-ee7041a6e69d"
      },
      "source": [
        "# We will now train and test our model for different values of min_samples_splits as parameter\n",
        "min_samples_splits = np.linspace(0.1, 1.0, 10, endpoint=True)\n",
        "best_mss=[]\n",
        "for min_samples_split in min_samples_splits:\n",
        "    model = GradientBoostingClassifier(min_samples_split=min_samples_split)  \n",
        "    model.fit(x_train, y_train)\n",
        "    pred = model.predict(x_test)\n",
        "    print(f1_score(pred,y_test))\n",
        "    if f1_score(pred,y_test)>0.86:\n",
        "        best_mss.append(min_samples_splits)"
      ],
      "execution_count": null,
      "outputs": [
        {
          "output_type": "stream",
          "text": [
            "0.8625825272531858\n",
            "0.8619259714329596\n",
            "0.8616710263117402\n",
            "0.8560478307527212\n",
            "0.8530718553700015\n",
            "0.8495278708498325\n",
            "0.8442285041224971\n",
            "0.8409727339719971\n",
            "0.8362953330443577\n",
            "0.8353587962962963\n"
          ],
          "name": "stdout"
        }
      ]
    },
    {
      "cell_type": "code",
      "metadata": {
        "id": "GnM_Yuq9Mp3U",
        "colab": {
          "base_uri": "https://localhost:8080/"
        },
        "outputId": "8940674b-bf87-4a7b-f24c-fbd6cf1ea3dd"
      },
      "source": [
        "# We will now train and test our model for different values of min_samples_leafs as parameter\n",
        "min_samples_leafs = np.linspace(0.1, 0.5, 5, endpoint=True)\n",
        "best_msl=[]\n",
        "for min_samples_leaf in min_samples_leafs:\n",
        "    model = GradientBoostingClassifier(min_samples_leaf=min_samples_leaf)\n",
        "    model.fit(x_train, y_train)\n",
        "    pred = model.predict(x_test)\n",
        "    print(f1_score(pred,y_test))\n",
        "    if f1_score(pred,y_test)>0.86:\n",
        "        best_msl.append(min_samples_leaf)"
      ],
      "execution_count": null,
      "outputs": [
        {
          "output_type": "stream",
          "text": [
            "0.8499539736115371\n",
            "0.8287756370416407\n",
            "0.8110319745415971\n",
            "0.7854367534897106\n",
            "0.7733071638861629\n"
          ],
          "name": "stdout"
        }
      ]
    },
    {
      "cell_type": "code",
      "metadata": {
        "id": "wZY7-9TTMp3U",
        "colab": {
          "base_uri": "https://localhost:8080/"
        },
        "outputId": "b2a81ecc-cf25-4d96-c943-901b9bd14fab"
      },
      "source": [
        "# We will now train and test our model for different values of max_features as parameter\n",
        "max_features = list(range(1,X.shape[1]))\n",
        "best_mf=[]\n",
        "for max_feature in max_features:\n",
        "    model = GradientBoostingClassifier(max_features=max_feature)\n",
        "    model.fit(x_train, y_train)\n",
        "    pred = model.predict(x_test)\n",
        "    print(f1_score(pred,y_test))\n",
        "    if f1_score(pred,y_test)>0.86:\n",
        "        best_mf.append(max_feature)"
      ],
      "execution_count": null,
      "outputs": [
        {
          "output_type": "stream",
          "text": [
            "0.8491886258746464\n",
            "0.8523601266777259\n",
            "0.856838905775076\n",
            "0.8605614358030373\n",
            "0.8610555470072319\n",
            "0.8594636015325671\n",
            "0.8586307244601011\n",
            "0.8625883799569628\n",
            "0.8620320855614972\n",
            "0.8603831417624522\n",
            "0.8588938256473111\n",
            "0.861396776669225\n",
            "0.8598130841121496\n",
            "0.8616939807014856\n",
            "0.8615762789983101\n",
            "0.8651806302843966\n",
            "0.8621853898096993\n"
          ],
          "name": "stdout"
        }
      ]
    },
    {
      "cell_type": "markdown",
      "metadata": {
        "id": "CUbScf335v6z"
      },
      "source": [
        "We will now validate our model for parameters on which we get maximum score. For this, we will train on first 20000 values of pharma_data/X and validate it on last 3097 values."
      ]
    },
    {
      "cell_type": "code",
      "metadata": {
        "id": "4CblG263Mp3V"
      },
      "source": [
        "validate_x,validate_y=X[20000:],Y[20000:] #create validation test"
      ],
      "execution_count": null,
      "outputs": []
    },
    {
      "cell_type": "code",
      "metadata": {
        "id": "1ZciBwflMp3W",
        "colab": {
          "base_uri": "https://localhost:8080/"
        },
        "outputId": "c394b315-6bbc-473b-bf09-e0e65934cc1c"
      },
      "source": [
        "# We will now validate our model for different values of learning_rate as parameter for which we got high scores during testing\n",
        "for i in best_lr:\n",
        "    model = GradientBoostingClassifier(learning_rate=i)\n",
        "    model.fit(X[:20000],Y[:20000])\n",
        "    pred=model.predict(validate_x)\n",
        "    print(f1_score(validate_y,pred))"
      ],
      "execution_count": null,
      "outputs": [
        {
          "output_type": "stream",
          "text": [
            "0.8747795414462082\n",
            "0.8767330476430552\n",
            "0.8791593695271454\n",
            "0.8757076052178194\n"
          ],
          "name": "stdout"
        }
      ]
    },
    {
      "cell_type": "code",
      "metadata": {
        "id": "tzHMhizIMp3W",
        "colab": {
          "base_uri": "https://localhost:8080/"
        },
        "outputId": "0622c31e-2a32-47f2-f6f7-e63affeff914"
      },
      "source": [
        "# We will now validate our model for different values of n_estimators as parameter for which we got high scores during testing\n",
        "for i in best_est:\n",
        "    model = GradientBoostingClassifier(n_estimators=i)\n",
        "    model.fit(X[:20000],Y[:20000])\n",
        "    pred=model.predict(validate_x)\n",
        "    print(f1_score(validate_y,pred))"
      ],
      "execution_count": null,
      "outputs": [
        {
          "output_type": "stream",
          "text": [
            "0.8757076052178194\n",
            "0.878644405681535\n",
            "0.8803204807210816\n",
            "0.8811259110329229\n",
            "0.8829733802109492\n",
            "0.8819252945600401\n"
          ],
          "name": "stdout"
        }
      ]
    },
    {
      "cell_type": "code",
      "metadata": {
        "id": "MCkWJt-eMp3X",
        "colab": {
          "base_uri": "https://localhost:8080/"
        },
        "outputId": "1d0f26c2-4f20-4085-eea3-30c290cc5136"
      },
      "source": [
        "# We will now validate our model for different values of learning_rate as parameter for which we got high scores during testing\n",
        "for i in best_md:\n",
        "    model = GradientBoostingClassifier(max_depth=i)\n",
        "    model.fit(X[:20000],Y[:20000])\n",
        "    pred=model.predict(validate_x)\n",
        "    print(f1_score(validate_y,pred))"
      ],
      "execution_count": null,
      "outputs": [
        {
          "output_type": "stream",
          "text": [
            "0.8757076052178194\n",
            "0.8795448924066287\n",
            "0.8821330675305258\n",
            "0.8801404212637913\n",
            "0.8775818639798488\n",
            "0.8738353059682699\n",
            "0.8711223203026481\n"
          ],
          "name": "stdout"
        }
      ]
    },
    {
      "cell_type": "code",
      "metadata": {
        "id": "EVMPfePFMp3Y",
        "colab": {
          "base_uri": "https://localhost:8080/"
        },
        "outputId": "3f8af3bd-ff26-4b51-c58b-9aa255d18eb0"
      },
      "source": [
        "# We will now validate our model for different values of min_samples_split as parameter for which we got high scores during testing\n",
        "for i in best_mss[0]:\n",
        "    model = GradientBoostingClassifier(min_samples_split=i)\n",
        "    model.fit(X[:20000],Y[:20000])\n",
        "    pred=model.predict(validate_x)\n",
        "    print(f1_score(validate_y,pred))"
      ],
      "execution_count": null,
      "outputs": [
        {
          "output_type": "stream",
          "text": [
            "0.8754623921085081\n",
            "0.8722879684418147\n",
            "0.8754623921085081\n",
            "0.8735236220472441\n",
            "0.8678500986193293\n",
            "0.8703658832081416\n",
            "0.857551214864221\n",
            "0.8549870313605282\n",
            "0.8499534016775395\n",
            "0.8484147188150891\n"
          ],
          "name": "stdout"
        }
      ]
    },
    {
      "cell_type": "code",
      "metadata": {
        "id": "oSSqVwQCMp3Z"
      },
      "source": [
        "# We will now validate our model for different values of min_samples_leaf as parameter for which we got high scores during testing\n",
        "for i in best_msl:\n",
        "    model = GradientBoostingClassifier(min_samples_leaf=i)\n",
        "    model.fit(X[:20000],Y[:20000])\n",
        "    pred=model.predict(validate_x)\n",
        "    print(f1_score(validate_y,pred))"
      ],
      "execution_count": null,
      "outputs": []
    },
    {
      "cell_type": "code",
      "metadata": {
        "id": "dc7iu2fXMp3a",
        "colab": {
          "base_uri": "https://localhost:8080/"
        },
        "outputId": "84210ffb-1c68-44c1-def5-105044a2747d"
      },
      "source": [
        "# We will now validate our model for different values of max_features as parameter for which we got high scores during testing\n",
        "for i in best_mf:\n",
        "    model = GradientBoostingClassifier(max_features=i)\n",
        "    model.fit(X[:20000],Y[:20000])\n",
        "    pred=model.predict(validate_x)\n",
        "    print(f1_score(validate_y,pred))"
      ],
      "execution_count": null,
      "outputs": [
        {
          "output_type": "stream",
          "text": [
            "0.8764155588380108\n",
            "0.8721359940872135\n",
            "0.8774352651048088\n",
            "0.8746600741656366\n",
            "0.8750617283950618\n",
            "0.8734270910436713\n",
            "0.8772794480039429\n",
            "0.878495421925266\n",
            "0.8765705838876571\n",
            "0.8771583621114949\n"
          ],
          "name": "stdout"
        }
      ]
    },
    {
      "cell_type": "code",
      "metadata": {
        "id": "7OoUhHwfMp3b",
        "colab": {
          "base_uri": "https://localhost:8080/",
          "height": 235
        },
        "outputId": "5c43141b-601c-4cb3-da2a-e59e040a93b1"
      },
      "source": [
        "# Store the best parameters for future reference\n",
        "params=[best_lr,best_est,best_md,best_mss[0],best_msl,best_mf]\n",
        "params[3]=list(params[3])\n",
        "params=pd.DataFrame(params).round(1)\n",
        "params.index=['learning_rate','n_estimators','max_depth','min_samples_split','min_samples_leaf','max_features']\n",
        "params"
      ],
      "execution_count": null,
      "outputs": [
        {
          "output_type": "execute_result",
          "data": {
            "text/html": [
              "<div>\n",
              "<style scoped>\n",
              "    .dataframe tbody tr th:only-of-type {\n",
              "        vertical-align: middle;\n",
              "    }\n",
              "\n",
              "    .dataframe tbody tr th {\n",
              "        vertical-align: top;\n",
              "    }\n",
              "\n",
              "    .dataframe thead th {\n",
              "        text-align: right;\n",
              "    }\n",
              "</style>\n",
              "<table border=\"1\" class=\"dataframe\">\n",
              "  <thead>\n",
              "    <tr style=\"text-align: right;\">\n",
              "      <th></th>\n",
              "      <th>0</th>\n",
              "      <th>1</th>\n",
              "      <th>2</th>\n",
              "      <th>3</th>\n",
              "      <th>4</th>\n",
              "      <th>5</th>\n",
              "      <th>6</th>\n",
              "      <th>7</th>\n",
              "      <th>8</th>\n",
              "      <th>9</th>\n",
              "    </tr>\n",
              "  </thead>\n",
              "  <tbody>\n",
              "    <tr>\n",
              "      <th>learning_rate</th>\n",
              "      <td>1.0</td>\n",
              "      <td>0.5</td>\n",
              "      <td>0.2</td>\n",
              "      <td>0.1</td>\n",
              "      <td>NaN</td>\n",
              "      <td>NaN</td>\n",
              "      <td>NaN</td>\n",
              "      <td>NaN</td>\n",
              "      <td>NaN</td>\n",
              "      <td>NaN</td>\n",
              "    </tr>\n",
              "    <tr>\n",
              "      <th>n_estimators</th>\n",
              "      <td>100.0</td>\n",
              "      <td>200.0</td>\n",
              "      <td>300.0</td>\n",
              "      <td>400.0</td>\n",
              "      <td>500.0</td>\n",
              "      <td>1000.0</td>\n",
              "      <td>NaN</td>\n",
              "      <td>NaN</td>\n",
              "      <td>NaN</td>\n",
              "      <td>NaN</td>\n",
              "    </tr>\n",
              "    <tr>\n",
              "      <th>max_depth</th>\n",
              "      <td>3.0</td>\n",
              "      <td>4.0</td>\n",
              "      <td>5.0</td>\n",
              "      <td>6.0</td>\n",
              "      <td>7.0</td>\n",
              "      <td>8.0</td>\n",
              "      <td>9.0</td>\n",
              "      <td>NaN</td>\n",
              "      <td>NaN</td>\n",
              "      <td>NaN</td>\n",
              "    </tr>\n",
              "    <tr>\n",
              "      <th>min_samples_split</th>\n",
              "      <td>0.1</td>\n",
              "      <td>0.2</td>\n",
              "      <td>0.3</td>\n",
              "      <td>0.4</td>\n",
              "      <td>0.5</td>\n",
              "      <td>0.6</td>\n",
              "      <td>0.7</td>\n",
              "      <td>0.8</td>\n",
              "      <td>0.9</td>\n",
              "      <td>1.0</td>\n",
              "    </tr>\n",
              "    <tr>\n",
              "      <th>min_samples_leaf</th>\n",
              "      <td>NaN</td>\n",
              "      <td>NaN</td>\n",
              "      <td>NaN</td>\n",
              "      <td>NaN</td>\n",
              "      <td>NaN</td>\n",
              "      <td>NaN</td>\n",
              "      <td>NaN</td>\n",
              "      <td>NaN</td>\n",
              "      <td>NaN</td>\n",
              "      <td>NaN</td>\n",
              "    </tr>\n",
              "    <tr>\n",
              "      <th>max_features</th>\n",
              "      <td>4.0</td>\n",
              "      <td>5.0</td>\n",
              "      <td>8.0</td>\n",
              "      <td>9.0</td>\n",
              "      <td>10.0</td>\n",
              "      <td>12.0</td>\n",
              "      <td>14.0</td>\n",
              "      <td>15.0</td>\n",
              "      <td>16.0</td>\n",
              "      <td>17.0</td>\n",
              "    </tr>\n",
              "  </tbody>\n",
              "</table>\n",
              "</div>"
            ],
            "text/plain": [
              "                       0      1      2      3  ...     6     7     8     9\n",
              "learning_rate        1.0    0.5    0.2    0.1  ...   NaN   NaN   NaN   NaN\n",
              "n_estimators       100.0  200.0  300.0  400.0  ...   NaN   NaN   NaN   NaN\n",
              "max_depth            3.0    4.0    5.0    6.0  ...   9.0   NaN   NaN   NaN\n",
              "min_samples_split    0.1    0.2    0.3    0.4  ...   0.7   0.8   0.9   1.0\n",
              "min_samples_leaf     NaN    NaN    NaN    NaN  ...   NaN   NaN   NaN   NaN\n",
              "max_features         4.0    5.0    8.0    9.0  ...  14.0  15.0  16.0  17.0\n",
              "\n",
              "[6 rows x 10 columns]"
            ]
          },
          "metadata": {
            "tags": []
          },
          "execution_count": 44
        }
      ]
    },
    {
      "cell_type": "code",
      "metadata": {
        "colab": {
          "base_uri": "https://localhost:8080/"
        },
        "id": "DDIKVUZ4aH4Z",
        "outputId": "4f094944-0d3b-4408-8a2d-3207b4fef081"
      },
      "source": [
        "model = GradientBoostingClassifier(n_estimators=500)\r\n",
        "model.fit(X[:20000],Y[:20000])\r\n",
        "pred=model.predict(validate_x)\r\n",
        "print(f1_score(validate_y,pred))"
      ],
      "execution_count": null,
      "outputs": [
        {
          "output_type": "stream",
          "text": [
            "0.8829733802109492\n"
          ],
          "name": "stdout"
        }
      ]
    },
    {
      "cell_type": "markdown",
      "metadata": {
        "id": "nUJ6szx59ejw"
      },
      "source": [
        "After the obtained results it is clear that we got the maximum f1 score when we used **value of n_estimators to be 500**. So we will use it to predict our values.\r\n",
        "\r\n",
        "We will process our new unseen data on which we will predict results similar to how we processed pharma_data\r\n"
      ]
    },
    {
      "cell_type": "markdown",
      "metadata": {
        "id": "bzvqgtiBOixb"
      },
      "source": [
        "**Conclusion**\r\n",
        "* It is clearly observable that how the f1 scores increased from logistic regression to random forest, then to gradient boosting classifier.\r\n",
        "* Then again the f1 score increased with Hyper parameter tunning.\r\n",
        "* Also this is one of the approach to solve this problem. There can be many other approaches to solve this problem."
      ]
    },
    {
      "cell_type": "markdown",
      "metadata": {
        "id": "ylxXf50qPQpw"
      },
      "source": [
        "**New Test Data**\r\n",
        "\r\n",
        "Tasks to be performed:\r\n",
        "\r\n",
        "* Load the new test data\r\n",
        "* Preprocess and clean the data\r\n",
        "* Predict the output\r\n",
        "* Download the predicted values in csv"
      ]
    },
    {
      "cell_type": "markdown",
      "metadata": {
        "id": "arCr9B-cN3G2"
      },
      "source": [
        "**Reading New Data to predict results**"
      ]
    },
    {
      "cell_type": "code",
      "metadata": {
        "id": "pkpoUQ8hMp3K"
      },
      "source": [
        "#Read new unseen data to predict results based on our model\r\n",
        "new_data = pd.read_csv('https://raw.githubusercontent.com/dphi-official/Datasets/master/pharma_data/Testing_set_begs.csv')"
      ],
      "execution_count": null,
      "outputs": []
    },
    {
      "cell_type": "markdown",
      "metadata": {
        "id": "Z4kbj-XPN9v7"
      },
      "source": [
        "**Data Pre-processing and Cleaning on new data**"
      ]
    },
    {
      "cell_type": "code",
      "metadata": {
        "id": "cLFh1H9cMp3K",
        "colab": {
          "base_uri": "https://localhost:8080/"
        },
        "outputId": "e5259189-158f-46a8-e830-50ba7f2913ba"
      },
      "source": [
        "new_data.info() #A look into new data There are no null values"
      ],
      "execution_count": null,
      "outputs": [
        {
          "output_type": "stream",
          "text": [
            "<class 'pandas.core.frame.DataFrame'>\n",
            "RangeIndex: 9303 entries, 0 to 9302\n",
            "Data columns (total 17 columns):\n",
            " #   Column                     Non-Null Count  Dtype  \n",
            "---  ------                     --------------  -----  \n",
            " 0   ID_Patient_Care_Situation  9303 non-null   int64  \n",
            " 1   Diagnosed_Condition        9303 non-null   int64  \n",
            " 2   Patient_ID                 9303 non-null   int64  \n",
            " 3   Treated_with_drugs         9303 non-null   object \n",
            " 4   Patient_Age                9303 non-null   int64  \n",
            " 5   Patient_Body_Mass_Index    9303 non-null   float64\n",
            " 6   Patient_Smoker             9303 non-null   object \n",
            " 7   Patient_Rural_Urban        9303 non-null   object \n",
            " 8   Patient_mental_condition   9303 non-null   object \n",
            " 9   A                          9303 non-null   float64\n",
            " 10  B                          9303 non-null   float64\n",
            " 11  C                          9303 non-null   float64\n",
            " 12  D                          9303 non-null   float64\n",
            " 13  E                          9303 non-null   float64\n",
            " 14  F                          9303 non-null   float64\n",
            " 15  Z                          9303 non-null   float64\n",
            " 16  Number_of_prev_cond        9303 non-null   float64\n",
            "dtypes: float64(9), int64(4), object(4)\n",
            "memory usage: 1.2+ MB\n"
          ],
          "name": "stdout"
        }
      ]
    },
    {
      "cell_type": "markdown",
      "metadata": {
        "id": "VuumB6xsDgxO"
      },
      "source": [
        "There are no null values so we can process textual data and feed in our model"
      ]
    },
    {
      "cell_type": "code",
      "metadata": {
        "id": "JFqpgGX_Mp3M"
      },
      "source": [
        "#Convert textual new data in numerical new data\n",
        "new_data['DX1']=0\n",
        "new_data['DX2']=0\n",
        "new_data['DX3']=0\n",
        "new_data['DX4']=0\n",
        "new_data['DX5']=0\n",
        "new_data['DX6']=0\n",
        "new_data.loc[new_data.Treated_with_drugs.str.contains(\"DX1\"),'DX1']=1\n",
        "new_data.loc[new_data.Treated_with_drugs.str.contains(\"DX2\"),'DX2']=1\n",
        "new_data.loc[new_data.Treated_with_drugs.str.contains(\"DX4\"),'DX4']=1\n",
        "new_data.loc[new_data.Treated_with_drugs.str.contains(\"DX3\"),'DX3']=1\n",
        "new_data.loc[new_data.Treated_with_drugs.str.contains(\"DX5\"),'DX5']=1\n",
        "new_data.loc[new_data.Treated_with_drugs.str.contains(\"DX6\"),'DX6']=1\n",
        "new_data.Patient_Rural_Urban=new_data.Patient_Rural_Urban.apply(lambda x: 1 if x=='URBAN' else 0)\n",
        "new_data.loc[new_data.Patient_Smoker=='YES','Patient_Smoker']=1\n",
        "new_data.loc[new_data.Patient_Smoker=='NO','Patient_Smoker']=2\n",
        "new_data.loc[new_data.Patient_Smoker=='Cannot say','Patient_Smoker']=2"
      ],
      "execution_count": null,
      "outputs": []
    },
    {
      "cell_type": "code",
      "metadata": {
        "id": "yL_pC1QZqbZV"
      },
      "source": [
        "# ID and patient ID does not contribute in model/prediction.\r\n",
        "# Patient's mental condition is stable in all cases\r\n",
        "# Z is a very rare condition among patients and can cause imbalance in actual results\r\n",
        "# We have already splitted 'Treated_with_drugs' and using it is redundant\r\n",
        "# We can safely drop all these columns from our data\r\n",
        "new_data.drop(columns=['ID_Patient_Care_Situation','Patient_ID','Patient_mental_condition','Z','Treated_with_drugs'],inplace=True)"
      ],
      "execution_count": null,
      "outputs": []
    },
    {
      "cell_type": "code",
      "metadata": {
        "id": "fVjTI3QOMp3N",
        "colab": {
          "base_uri": "https://localhost:8080/",
          "height": 439
        },
        "outputId": "6aeb180f-209f-41d2-e176-fb4c7531515c"
      },
      "source": [
        "new_data"
      ],
      "execution_count": null,
      "outputs": [
        {
          "output_type": "execute_result",
          "data": {
            "text/html": [
              "<div>\n",
              "<style scoped>\n",
              "    .dataframe tbody tr th:only-of-type {\n",
              "        vertical-align: middle;\n",
              "    }\n",
              "\n",
              "    .dataframe tbody tr th {\n",
              "        vertical-align: top;\n",
              "    }\n",
              "\n",
              "    .dataframe thead th {\n",
              "        text-align: right;\n",
              "    }\n",
              "</style>\n",
              "<table border=\"1\" class=\"dataframe\">\n",
              "  <thead>\n",
              "    <tr style=\"text-align: right;\">\n",
              "      <th></th>\n",
              "      <th>Diagnosed_Condition</th>\n",
              "      <th>Patient_Age</th>\n",
              "      <th>Patient_Body_Mass_Index</th>\n",
              "      <th>Patient_Smoker</th>\n",
              "      <th>Patient_Rural_Urban</th>\n",
              "      <th>A</th>\n",
              "      <th>B</th>\n",
              "      <th>C</th>\n",
              "      <th>D</th>\n",
              "      <th>E</th>\n",
              "      <th>F</th>\n",
              "      <th>Number_of_prev_cond</th>\n",
              "      <th>DX1</th>\n",
              "      <th>DX2</th>\n",
              "      <th>DX3</th>\n",
              "      <th>DX4</th>\n",
              "      <th>DX5</th>\n",
              "      <th>DX6</th>\n",
              "    </tr>\n",
              "  </thead>\n",
              "  <tbody>\n",
              "    <tr>\n",
              "      <th>0</th>\n",
              "      <td>40</td>\n",
              "      <td>16</td>\n",
              "      <td>29.443894</td>\n",
              "      <td>2</td>\n",
              "      <td>0</td>\n",
              "      <td>1.0</td>\n",
              "      <td>0.0</td>\n",
              "      <td>0.0</td>\n",
              "      <td>0.0</td>\n",
              "      <td>1.0</td>\n",
              "      <td>0.0</td>\n",
              "      <td>2.0</td>\n",
              "      <td>0</td>\n",
              "      <td>0</td>\n",
              "      <td>1</td>\n",
              "      <td>0</td>\n",
              "      <td>0</td>\n",
              "      <td>0</td>\n",
              "    </tr>\n",
              "    <tr>\n",
              "      <th>1</th>\n",
              "      <td>52</td>\n",
              "      <td>24</td>\n",
              "      <td>26.836321</td>\n",
              "      <td>2</td>\n",
              "      <td>1</td>\n",
              "      <td>1.0</td>\n",
              "      <td>1.0</td>\n",
              "      <td>0.0</td>\n",
              "      <td>0.0</td>\n",
              "      <td>0.0</td>\n",
              "      <td>0.0</td>\n",
              "      <td>2.0</td>\n",
              "      <td>0</td>\n",
              "      <td>0</td>\n",
              "      <td>0</td>\n",
              "      <td>0</td>\n",
              "      <td>0</td>\n",
              "      <td>1</td>\n",
              "    </tr>\n",
              "    <tr>\n",
              "      <th>2</th>\n",
              "      <td>50</td>\n",
              "      <td>63</td>\n",
              "      <td>25.523280</td>\n",
              "      <td>2</td>\n",
              "      <td>0</td>\n",
              "      <td>1.0</td>\n",
              "      <td>0.0</td>\n",
              "      <td>0.0</td>\n",
              "      <td>0.0</td>\n",
              "      <td>1.0</td>\n",
              "      <td>0.0</td>\n",
              "      <td>2.0</td>\n",
              "      <td>0</td>\n",
              "      <td>0</td>\n",
              "      <td>0</td>\n",
              "      <td>1</td>\n",
              "      <td>1</td>\n",
              "      <td>0</td>\n",
              "    </tr>\n",
              "    <tr>\n",
              "      <th>3</th>\n",
              "      <td>32</td>\n",
              "      <td>42</td>\n",
              "      <td>27.171155</td>\n",
              "      <td>2</td>\n",
              "      <td>1</td>\n",
              "      <td>1.0</td>\n",
              "      <td>0.0</td>\n",
              "      <td>1.0</td>\n",
              "      <td>0.0</td>\n",
              "      <td>1.0</td>\n",
              "      <td>0.0</td>\n",
              "      <td>3.0</td>\n",
              "      <td>0</td>\n",
              "      <td>0</td>\n",
              "      <td>0</td>\n",
              "      <td>0</td>\n",
              "      <td>0</td>\n",
              "      <td>1</td>\n",
              "    </tr>\n",
              "    <tr>\n",
              "      <th>4</th>\n",
              "      <td>20</td>\n",
              "      <td>50</td>\n",
              "      <td>25.556192</td>\n",
              "      <td>2</td>\n",
              "      <td>0</td>\n",
              "      <td>1.0</td>\n",
              "      <td>0.0</td>\n",
              "      <td>0.0</td>\n",
              "      <td>0.0</td>\n",
              "      <td>0.0</td>\n",
              "      <td>0.0</td>\n",
              "      <td>1.0</td>\n",
              "      <td>0</td>\n",
              "      <td>0</td>\n",
              "      <td>1</td>\n",
              "      <td>0</td>\n",
              "      <td>0</td>\n",
              "      <td>0</td>\n",
              "    </tr>\n",
              "    <tr>\n",
              "      <th>...</th>\n",
              "      <td>...</td>\n",
              "      <td>...</td>\n",
              "      <td>...</td>\n",
              "      <td>...</td>\n",
              "      <td>...</td>\n",
              "      <td>...</td>\n",
              "      <td>...</td>\n",
              "      <td>...</td>\n",
              "      <td>...</td>\n",
              "      <td>...</td>\n",
              "      <td>...</td>\n",
              "      <td>...</td>\n",
              "      <td>...</td>\n",
              "      <td>...</td>\n",
              "      <td>...</td>\n",
              "      <td>...</td>\n",
              "      <td>...</td>\n",
              "      <td>...</td>\n",
              "    </tr>\n",
              "    <tr>\n",
              "      <th>9298</th>\n",
              "      <td>11</td>\n",
              "      <td>28</td>\n",
              "      <td>29.106314</td>\n",
              "      <td>2</td>\n",
              "      <td>0</td>\n",
              "      <td>1.0</td>\n",
              "      <td>1.0</td>\n",
              "      <td>1.0</td>\n",
              "      <td>0.0</td>\n",
              "      <td>0.0</td>\n",
              "      <td>0.0</td>\n",
              "      <td>3.0</td>\n",
              "      <td>0</td>\n",
              "      <td>0</td>\n",
              "      <td>0</td>\n",
              "      <td>0</td>\n",
              "      <td>0</td>\n",
              "      <td>1</td>\n",
              "    </tr>\n",
              "    <tr>\n",
              "      <th>9299</th>\n",
              "      <td>7</td>\n",
              "      <td>4</td>\n",
              "      <td>20.616673</td>\n",
              "      <td>2</td>\n",
              "      <td>1</td>\n",
              "      <td>1.0</td>\n",
              "      <td>1.0</td>\n",
              "      <td>0.0</td>\n",
              "      <td>0.0</td>\n",
              "      <td>0.0</td>\n",
              "      <td>0.0</td>\n",
              "      <td>2.0</td>\n",
              "      <td>1</td>\n",
              "      <td>0</td>\n",
              "      <td>0</td>\n",
              "      <td>0</td>\n",
              "      <td>0</td>\n",
              "      <td>0</td>\n",
              "    </tr>\n",
              "    <tr>\n",
              "      <th>9300</th>\n",
              "      <td>16</td>\n",
              "      <td>20</td>\n",
              "      <td>24.727357</td>\n",
              "      <td>1</td>\n",
              "      <td>1</td>\n",
              "      <td>1.0</td>\n",
              "      <td>0.0</td>\n",
              "      <td>0.0</td>\n",
              "      <td>0.0</td>\n",
              "      <td>0.0</td>\n",
              "      <td>0.0</td>\n",
              "      <td>1.0</td>\n",
              "      <td>1</td>\n",
              "      <td>0</td>\n",
              "      <td>1</td>\n",
              "      <td>1</td>\n",
              "      <td>1</td>\n",
              "      <td>0</td>\n",
              "    </tr>\n",
              "    <tr>\n",
              "      <th>9301</th>\n",
              "      <td>50</td>\n",
              "      <td>33</td>\n",
              "      <td>17.517426</td>\n",
              "      <td>2</td>\n",
              "      <td>1</td>\n",
              "      <td>1.0</td>\n",
              "      <td>1.0</td>\n",
              "      <td>1.0</td>\n",
              "      <td>1.0</td>\n",
              "      <td>0.0</td>\n",
              "      <td>1.0</td>\n",
              "      <td>5.0</td>\n",
              "      <td>0</td>\n",
              "      <td>0</td>\n",
              "      <td>0</td>\n",
              "      <td>1</td>\n",
              "      <td>0</td>\n",
              "      <td>0</td>\n",
              "    </tr>\n",
              "    <tr>\n",
              "      <th>9302</th>\n",
              "      <td>51</td>\n",
              "      <td>52</td>\n",
              "      <td>17.781011</td>\n",
              "      <td>1</td>\n",
              "      <td>0</td>\n",
              "      <td>1.0</td>\n",
              "      <td>0.0</td>\n",
              "      <td>0.0</td>\n",
              "      <td>0.0</td>\n",
              "      <td>0.0</td>\n",
              "      <td>0.0</td>\n",
              "      <td>1.0</td>\n",
              "      <td>0</td>\n",
              "      <td>0</td>\n",
              "      <td>0</td>\n",
              "      <td>0</td>\n",
              "      <td>0</td>\n",
              "      <td>1</td>\n",
              "    </tr>\n",
              "  </tbody>\n",
              "</table>\n",
              "<p>9303 rows × 18 columns</p>\n",
              "</div>"
            ],
            "text/plain": [
              "      Diagnosed_Condition  Patient_Age  Patient_Body_Mass_Index  ... DX4  DX5  DX6\n",
              "0                      40           16                29.443894  ...   0    0    0\n",
              "1                      52           24                26.836321  ...   0    0    1\n",
              "2                      50           63                25.523280  ...   1    1    0\n",
              "3                      32           42                27.171155  ...   0    0    1\n",
              "4                      20           50                25.556192  ...   0    0    0\n",
              "...                   ...          ...                      ...  ...  ..  ...  ...\n",
              "9298                   11           28                29.106314  ...   0    0    1\n",
              "9299                    7            4                20.616673  ...   0    0    0\n",
              "9300                   16           20                24.727357  ...   1    1    0\n",
              "9301                   50           33                17.517426  ...   1    0    0\n",
              "9302                   51           52                17.781011  ...   0    0    1\n",
              "\n",
              "[9303 rows x 18 columns]"
            ]
          },
          "metadata": {
            "tags": []
          },
          "execution_count": 50
        }
      ]
    },
    {
      "cell_type": "code",
      "metadata": {
        "id": "9x_LB86oCNwo"
      },
      "source": [
        "# Preprocess our features in 'new_data' for better calculations\n",
        "from sklearn.preprocessing import StandardScaler\n",
        "scaler = StandardScaler()\n",
        "scaler.fit(new_data)\n",
        "new_data=pd.DataFrame(scaler.transform(new_data))"
      ],
      "execution_count": null,
      "outputs": []
    },
    {
      "cell_type": "code",
      "metadata": {
        "colab": {
          "base_uri": "https://localhost:8080/",
          "height": 439
        },
        "id": "IaxhmfFdCNw_",
        "outputId": "de8ed2a8-958c-4550-eb83-15daba944e98"
      },
      "source": [
        "new_data"
      ],
      "execution_count": null,
      "outputs": [
        {
          "output_type": "execute_result",
          "data": {
            "text/html": [
              "<div>\n",
              "<style scoped>\n",
              "    .dataframe tbody tr th:only-of-type {\n",
              "        vertical-align: middle;\n",
              "    }\n",
              "\n",
              "    .dataframe tbody tr th {\n",
              "        vertical-align: top;\n",
              "    }\n",
              "\n",
              "    .dataframe thead th {\n",
              "        text-align: right;\n",
              "    }\n",
              "</style>\n",
              "<table border=\"1\" class=\"dataframe\">\n",
              "  <thead>\n",
              "    <tr style=\"text-align: right;\">\n",
              "      <th></th>\n",
              "      <th>0</th>\n",
              "      <th>1</th>\n",
              "      <th>2</th>\n",
              "      <th>3</th>\n",
              "      <th>4</th>\n",
              "      <th>5</th>\n",
              "      <th>6</th>\n",
              "      <th>7</th>\n",
              "      <th>8</th>\n",
              "      <th>9</th>\n",
              "      <th>10</th>\n",
              "      <th>11</th>\n",
              "      <th>12</th>\n",
              "      <th>13</th>\n",
              "      <th>14</th>\n",
              "      <th>15</th>\n",
              "      <th>16</th>\n",
              "      <th>17</th>\n",
              "    </tr>\n",
              "  </thead>\n",
              "  <tbody>\n",
              "    <tr>\n",
              "      <th>0</th>\n",
              "      <td>0.882265</td>\n",
              "      <td>-0.885617</td>\n",
              "      <td>1.595757</td>\n",
              "      <td>0.862799</td>\n",
              "      <td>-0.656346</td>\n",
              "      <td>0.34568</td>\n",
              "      <td>-0.407352</td>\n",
              "      <td>-0.473540</td>\n",
              "      <td>-0.309242</td>\n",
              "      <td>1.226172</td>\n",
              "      <td>-0.236303</td>\n",
              "      <td>0.313338</td>\n",
              "      <td>-0.461419</td>\n",
              "      <td>-0.470816</td>\n",
              "      <td>2.161611</td>\n",
              "      <td>-0.470134</td>\n",
              "      <td>-0.468429</td>\n",
              "      <td>-0.769874</td>\n",
              "    </tr>\n",
              "    <tr>\n",
              "      <th>1</th>\n",
              "      <td>1.677123</td>\n",
              "      <td>-0.474874</td>\n",
              "      <td>0.903929</td>\n",
              "      <td>0.862799</td>\n",
              "      <td>1.523586</td>\n",
              "      <td>0.34568</td>\n",
              "      <td>2.454880</td>\n",
              "      <td>-0.473540</td>\n",
              "      <td>-0.309242</td>\n",
              "      <td>-0.815546</td>\n",
              "      <td>-0.236303</td>\n",
              "      <td>0.313338</td>\n",
              "      <td>-0.461419</td>\n",
              "      <td>-0.470816</td>\n",
              "      <td>-0.462618</td>\n",
              "      <td>-0.470134</td>\n",
              "      <td>-0.468429</td>\n",
              "      <td>1.298913</td>\n",
              "    </tr>\n",
              "    <tr>\n",
              "      <th>2</th>\n",
              "      <td>1.544646</td>\n",
              "      <td>1.527501</td>\n",
              "      <td>0.555559</td>\n",
              "      <td>0.862799</td>\n",
              "      <td>-0.656346</td>\n",
              "      <td>0.34568</td>\n",
              "      <td>-0.407352</td>\n",
              "      <td>-0.473540</td>\n",
              "      <td>-0.309242</td>\n",
              "      <td>1.226172</td>\n",
              "      <td>-0.236303</td>\n",
              "      <td>0.313338</td>\n",
              "      <td>-0.461419</td>\n",
              "      <td>-0.470816</td>\n",
              "      <td>-0.462618</td>\n",
              "      <td>2.127051</td>\n",
              "      <td>2.134795</td>\n",
              "      <td>-0.769874</td>\n",
              "    </tr>\n",
              "    <tr>\n",
              "      <th>3</th>\n",
              "      <td>0.352359</td>\n",
              "      <td>0.449299</td>\n",
              "      <td>0.992765</td>\n",
              "      <td>0.862799</td>\n",
              "      <td>1.523586</td>\n",
              "      <td>0.34568</td>\n",
              "      <td>-0.407352</td>\n",
              "      <td>2.111754</td>\n",
              "      <td>-0.309242</td>\n",
              "      <td>1.226172</td>\n",
              "      <td>-0.236303</td>\n",
              "      <td>1.610038</td>\n",
              "      <td>-0.461419</td>\n",
              "      <td>-0.470816</td>\n",
              "      <td>-0.462618</td>\n",
              "      <td>-0.470134</td>\n",
              "      <td>-0.468429</td>\n",
              "      <td>1.298913</td>\n",
              "    </tr>\n",
              "    <tr>\n",
              "      <th>4</th>\n",
              "      <td>-0.442499</td>\n",
              "      <td>0.860043</td>\n",
              "      <td>0.564291</td>\n",
              "      <td>0.862799</td>\n",
              "      <td>-0.656346</td>\n",
              "      <td>0.34568</td>\n",
              "      <td>-0.407352</td>\n",
              "      <td>-0.473540</td>\n",
              "      <td>-0.309242</td>\n",
              "      <td>-0.815546</td>\n",
              "      <td>-0.236303</td>\n",
              "      <td>-0.983362</td>\n",
              "      <td>-0.461419</td>\n",
              "      <td>-0.470816</td>\n",
              "      <td>2.161611</td>\n",
              "      <td>-0.470134</td>\n",
              "      <td>-0.468429</td>\n",
              "      <td>-0.769874</td>\n",
              "    </tr>\n",
              "    <tr>\n",
              "      <th>...</th>\n",
              "      <td>...</td>\n",
              "      <td>...</td>\n",
              "      <td>...</td>\n",
              "      <td>...</td>\n",
              "      <td>...</td>\n",
              "      <td>...</td>\n",
              "      <td>...</td>\n",
              "      <td>...</td>\n",
              "      <td>...</td>\n",
              "      <td>...</td>\n",
              "      <td>...</td>\n",
              "      <td>...</td>\n",
              "      <td>...</td>\n",
              "      <td>...</td>\n",
              "      <td>...</td>\n",
              "      <td>...</td>\n",
              "      <td>...</td>\n",
              "      <td>...</td>\n",
              "    </tr>\n",
              "    <tr>\n",
              "      <th>9298</th>\n",
              "      <td>-1.038643</td>\n",
              "      <td>-0.269502</td>\n",
              "      <td>1.506192</td>\n",
              "      <td>0.862799</td>\n",
              "      <td>-0.656346</td>\n",
              "      <td>0.34568</td>\n",
              "      <td>2.454880</td>\n",
              "      <td>2.111754</td>\n",
              "      <td>-0.309242</td>\n",
              "      <td>-0.815546</td>\n",
              "      <td>-0.236303</td>\n",
              "      <td>1.610038</td>\n",
              "      <td>-0.461419</td>\n",
              "      <td>-0.470816</td>\n",
              "      <td>-0.462618</td>\n",
              "      <td>-0.470134</td>\n",
              "      <td>-0.468429</td>\n",
              "      <td>1.298913</td>\n",
              "    </tr>\n",
              "    <tr>\n",
              "      <th>9299</th>\n",
              "      <td>-1.303596</td>\n",
              "      <td>-1.501733</td>\n",
              "      <td>-0.746238</td>\n",
              "      <td>0.862799</td>\n",
              "      <td>1.523586</td>\n",
              "      <td>0.34568</td>\n",
              "      <td>2.454880</td>\n",
              "      <td>-0.473540</td>\n",
              "      <td>-0.309242</td>\n",
              "      <td>-0.815546</td>\n",
              "      <td>-0.236303</td>\n",
              "      <td>0.313338</td>\n",
              "      <td>2.167228</td>\n",
              "      <td>-0.470816</td>\n",
              "      <td>-0.462618</td>\n",
              "      <td>-0.470134</td>\n",
              "      <td>-0.468429</td>\n",
              "      <td>-0.769874</td>\n",
              "    </tr>\n",
              "    <tr>\n",
              "      <th>9300</th>\n",
              "      <td>-0.707452</td>\n",
              "      <td>-0.680246</td>\n",
              "      <td>0.344388</td>\n",
              "      <td>-1.159019</td>\n",
              "      <td>1.523586</td>\n",
              "      <td>0.34568</td>\n",
              "      <td>-0.407352</td>\n",
              "      <td>-0.473540</td>\n",
              "      <td>-0.309242</td>\n",
              "      <td>-0.815546</td>\n",
              "      <td>-0.236303</td>\n",
              "      <td>-0.983362</td>\n",
              "      <td>2.167228</td>\n",
              "      <td>-0.470816</td>\n",
              "      <td>2.161611</td>\n",
              "      <td>2.127051</td>\n",
              "      <td>2.134795</td>\n",
              "      <td>-0.769874</td>\n",
              "    </tr>\n",
              "    <tr>\n",
              "      <th>9301</th>\n",
              "      <td>1.544646</td>\n",
              "      <td>-0.012787</td>\n",
              "      <td>-1.568515</td>\n",
              "      <td>0.862799</td>\n",
              "      <td>1.523586</td>\n",
              "      <td>0.34568</td>\n",
              "      <td>2.454880</td>\n",
              "      <td>2.111754</td>\n",
              "      <td>3.233713</td>\n",
              "      <td>-0.815546</td>\n",
              "      <td>4.231848</td>\n",
              "      <td>4.203438</td>\n",
              "      <td>-0.461419</td>\n",
              "      <td>-0.470816</td>\n",
              "      <td>-0.462618</td>\n",
              "      <td>2.127051</td>\n",
              "      <td>-0.468429</td>\n",
              "      <td>-0.769874</td>\n",
              "    </tr>\n",
              "    <tr>\n",
              "      <th>9302</th>\n",
              "      <td>1.610885</td>\n",
              "      <td>0.962728</td>\n",
              "      <td>-1.498582</td>\n",
              "      <td>-1.159019</td>\n",
              "      <td>-0.656346</td>\n",
              "      <td>0.34568</td>\n",
              "      <td>-0.407352</td>\n",
              "      <td>-0.473540</td>\n",
              "      <td>-0.309242</td>\n",
              "      <td>-0.815546</td>\n",
              "      <td>-0.236303</td>\n",
              "      <td>-0.983362</td>\n",
              "      <td>-0.461419</td>\n",
              "      <td>-0.470816</td>\n",
              "      <td>-0.462618</td>\n",
              "      <td>-0.470134</td>\n",
              "      <td>-0.468429</td>\n",
              "      <td>1.298913</td>\n",
              "    </tr>\n",
              "  </tbody>\n",
              "</table>\n",
              "<p>9303 rows × 18 columns</p>\n",
              "</div>"
            ],
            "text/plain": [
              "            0         1         2   ...        15        16        17\n",
              "0     0.882265 -0.885617  1.595757  ... -0.470134 -0.468429 -0.769874\n",
              "1     1.677123 -0.474874  0.903929  ... -0.470134 -0.468429  1.298913\n",
              "2     1.544646  1.527501  0.555559  ...  2.127051  2.134795 -0.769874\n",
              "3     0.352359  0.449299  0.992765  ... -0.470134 -0.468429  1.298913\n",
              "4    -0.442499  0.860043  0.564291  ... -0.470134 -0.468429 -0.769874\n",
              "...        ...       ...       ...  ...       ...       ...       ...\n",
              "9298 -1.038643 -0.269502  1.506192  ... -0.470134 -0.468429  1.298913\n",
              "9299 -1.303596 -1.501733 -0.746238  ... -0.470134 -0.468429 -0.769874\n",
              "9300 -0.707452 -0.680246  0.344388  ...  2.127051  2.134795 -0.769874\n",
              "9301  1.544646 -0.012787 -1.568515  ...  2.127051 -0.468429 -0.769874\n",
              "9302  1.610885  0.962728 -1.498582  ... -0.470134 -0.468429  1.298913\n",
              "\n",
              "[9303 rows x 18 columns]"
            ]
          },
          "metadata": {
            "tags": []
          },
          "execution_count": 52
        }
      ]
    },
    {
      "cell_type": "markdown",
      "metadata": {
        "id": "OYHqgrv5OJca"
      },
      "source": [
        "**Results Prediction on New Data**"
      ]
    },
    {
      "cell_type": "code",
      "metadata": {
        "id": "w_4Rd2c-Mp3c"
      },
      "source": [
        "model = GradientBoostingClassifier(n_estimators=500)\n",
        "model.fit(X,Y) #train our model on complete X/pharma_data for better results\n",
        "res=model.predict(new_data)\n",
        "pd.DataFrame(res).to_csv(\"result.csv\")"
      ],
      "execution_count": null,
      "outputs": []
    },
    {
      "cell_type": "code",
      "metadata": {
        "id": "ugFcCD6qMp3d",
        "colab": {
          "base_uri": "https://localhost:8080/"
        },
        "outputId": "b9ca47bd-58f6-4e83-c794-16e17993ea67"
      },
      "source": [
        "res"
      ],
      "execution_count": null,
      "outputs": [
        {
          "output_type": "execute_result",
          "data": {
            "text/plain": [
              "array([1, 1, 1, ..., 1, 0, 0])"
            ]
          },
          "metadata": {
            "tags": []
          },
          "execution_count": 54
        }
      ]
    },
    {
      "cell_type": "code",
      "metadata": {
        "id": "HXk8Z94VeZCq"
      },
      "source": [
        ""
      ],
      "execution_count": null,
      "outputs": []
    }
  ]
}